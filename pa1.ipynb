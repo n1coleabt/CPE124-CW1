{
  "cells": [
    {
      "cell_type": "markdown",
      "metadata": {
        "id": "view-in-github",
        "colab_type": "text"
      },
      "source": [
        "<a href=\"https://colab.research.google.com/github/n1coleabt/CPE124-CW1/blob/main/pa1.ipynb\" target=\"_parent\"><img src=\"https://colab.research.google.com/assets/colab-badge.svg\" alt=\"Open In Colab\"/></a>"
      ]
    },
    {
      "cell_type": "markdown",
      "metadata": {
        "id": "upy_H2JTdwyf"
      },
      "source": [
        "# CS 124 Programming Assignment 1: Regular Expressions (`Winter 2025`)\n",
        "\n",
        "This assignment is your chance to become a __Dark Lord__ of spam email!\n",
        "Yes, you too can build regular expressions (`RegExes`) to spread evil throughout the galaxy.\n",
        "Our goal in this assignment is to use `RegExes` to extract phone numbers and\n",
        "email addresses from documents found on the web.\n",
        "This may seem easy at first, as you can write very simple `RegExes` to catch similar cases such as `650-723-0293` or `manning@cs.stanford.edu`.\n",
        "On the other hand there are various different ways people write their emails in `HTML` documents, some to prevent scrapers from capturing them easily, which you will learn in more detail in the upcoming sections.\n",
        "If you really were a malicious actor, you could then use these extracted addresses to bombard unsuspecting victims with spam!\n",
        "\n",
        "Of course, we would never do anything nefarious like that in `CS 124`.\n",
        "Instead our goal will be to work with raw data and gain some experience with `RegExes`.\n",
        "\n",
        "If you need a refresher on `Python` or `Jupyter Notebooks` (or you are new to\n",
        "either of them), we strongly encourage taking a look at `PA0` first.\n",
        "Referring back to it as you work might help if you run into any issues with\n",
        "`Python` syntax or idioms.\n",
        "We also provide you with a `Regular Expressions` tutorial (`regular_expressions_tutorial.ipynb`) along with this assignment, which can be helpful for practicing regular expressions.\n",
        "\n",
        "**You are encouraged to work with a partner!** We want the assignments in `CS 124` to bring you joy.\n",
        "One way to ensure this is to work with a partner!\n",
        "You are free to work with one other partner in our assignments.\n",
        "If you choose to work with a partner, we ask that each partner work on each part of the assignment in jointly instead of splitting parts.\n",
        "The partnership decision is independent for each assignment, so you can choose to work alone, work with the same partner or work with a different partner in the future assignments, which is a good way to meet your fellow classmates!"
      ]
    },
    {
      "cell_type": "markdown",
      "metadata": {
        "id": "i0T5kYg_3Y7S"
      },
      "source": [
        "<a id=\"contents\"></a>\n",
        "## Contents"
      ]
    },
    {
      "cell_type": "markdown",
      "metadata": {
        "id": "-DXv8PA2-hU5"
      },
      "source": [
        "Listed below are the contents of the assignment. In the `Data Exploration` section, you will look into the dataset we will use in the assignment. In the `Example Approach` section, you will learn more about the specifics of our email address and phone number catching task, and implement see an example implementation. In the `Evaluation` section, you will learn how to evaluate `RegExes` on our dataset. `Cases to Consider` section provides you with tips on the tricky cases you may run into. `Your Approach` section is the place where you actually start coding. In the `Reflection` section, you will answer a few questions on the environmental and societal impacts of spamming. Please read through all of this notebook before you start working through the assignment. **Note:** The links may not work on `Google Colab`.\n",
        "\n",
        "* [`Part 1. Data Exploration`](#data_exploration)\n",
        "* [`Part 2. Example Approach`](#example_approach)\n",
        "* [`Part 3. Evaluation`](#evaluation)\n",
        "* [`Part 4. Cases to Consider`](#cases_to_consider)\n",
        "* [`Part 5. Your Approach`](#your_approach)\n",
        "* [`Part 6. Reflection`](#reflection)\n",
        "\n"
      ]
    },
    {
      "cell_type": "markdown",
      "metadata": {
        "id": "_pBXnsqTqHu6"
      },
      "source": [
        "<a id=\"roadmap\"></a>\n",
        "## Roadmap\n",
        "\n",
        "\n"
      ]
    },
    {
      "cell_type": "markdown",
      "metadata": {
        "id": "rwzw4SXt-tJy"
      },
      "source": [
        "As an overview, there are only `4` functions you need to implement in this assignment:\n",
        "* In `Part 5. Your Approach`: **[`find_phone_numbers()`](#find_phone_numbers)** and **[`find_emails()`](#find_phone_emails)**\n",
        "* In `Part 6. Reflection`: **[`carbon_dioxide_emissions()`](#carbon_dioxide_emissions)** and **[`government_response()`](government_response)**\n",
        "\n",
        "You will write your `RegExes` in **`find_phone_numbers()`** and **`find_phone_emails()`**, which make up the meat of this assignment and will take the longest. A very short implementation is needed for the **`carbon_dioxide_emissions()`** function. You will provide a short answer to an open-ended question in the **`government_response()`** function."
      ]
    },
    {
      "cell_type": "markdown",
      "metadata": {
        "id": "e4gZzwRnPpWw"
      },
      "source": [
        "<a id=\"submitting\"></a>\n",
        "## Submitting"
      ]
    },
    {
      "cell_type": "markdown",
      "metadata": {
        "id": "HuKzBe8IYqBT"
      },
      "source": [
        "**Submit your empty assignment to Gradescope now to see the autograder output!**\n",
        "You will submit your assignment via [`Gradescope`](www.gradescope.com), where we have an autograder set up.\n",
        "You can name your leaderboard submission whatever you would like!\n",
        "You can submit your assignment any number of times before the deadline.\n",
        "As a general rule of thumb, we recommend submitting early and often in any `Computer Science` class if you have the option, to prevent any last minute errors with autograders.\n",
        "Submitting early also helps gauge how you are doing on the visible test cases of the autograder and gives you a chance to fix your submission accordingly.\n",
        "In fact, start with submitting your assignment now (even if you haven't coded anything), so that you are familiar with the submission process and know what kind of autograder feedback is available to you.\n",
        "You can re-submit as you make progress.\n",
        "Don't forget to update your submission with your final version once you are done!"
      ]
    },
    {
      "cell_type": "markdown",
      "metadata": {
        "id": "Y15qB5bxwR3N"
      },
      "source": [
        "**Partners.**\n",
        "You are welcome (and encouraged) to work with one partner.\n",
        "If you do work with a partner, only one of you needs to submit the assignment on `Gradescope` and tag the other as a group member."
      ]
    },
    {
      "cell_type": "markdown",
      "metadata": {
        "id": "XCMk0AEJYupX"
      },
      "source": [
        "**Environment.**\n",
        "Before you submit, make sure your code works in the environment described in the [`Environment Check`](#environment_check) section, as this is the environment our autograder will be run on.\n",
        "If you have completed the setup steps in `PA0` and run this notebook in the `cs124` environment you created according to the instructions, you are good!\n",
        "Note that you must not use any other dependencies (such as other `Python` modules), as doing so may cause the autograder to fail!"
      ]
    },
    {
      "cell_type": "markdown",
      "metadata": {
        "id": "9DjXAbXQYxcD"
      },
      "source": [
        "**Saving Your Notebook**.\n",
        "Make sure to save the recent changes in your notebook before you submit.\n",
        "This is especially important if you are running your notebook on `Google Colab` as connection quality sometimes cause your notebook to be in an unsaved state.\n",
        "The following error is also common on `Google Colab`, if the file you are working on is open in more than one tabs, so we are recommending keeping copies of your work if you are collaborating with your partner on `Colab`.\n",
        "```\n",
        "This file was updated remotely or in another tab. To force a save, overwriting the last update, select Save from the File menu\n",
        "```"
      ]
    },
    {
      "cell_type": "markdown",
      "metadata": {
        "id": "lMSPTRReQFXo"
      },
      "source": [
        "\n",
        "\n",
        "\n",
        "\n",
        "**Files.**\n",
        "Once you are done, you only need to submit the file listed below.\n",
        "**DO NOT** alter the file name.\n",
        "```\n",
        "pa1.ipynb\n",
        "```\n",
        "\n",
        "**Custom Dependencies.**\n",
        "Sometimes you may want to put parts of your code into `.py` files and call them from your notebook instead of having all your functions in the notebook, or utilize extra datasets.\n",
        "If this is the case, please put your extra files in a folder\n",
        "named `deps/` (this folder should be on the same level as `pa1.ipynb`)\n",
        "and upload a `zip` file (any name is fine) containing this folder and\n",
        "`pa1.ipynb` to submit on `Gradescope`.\n",
        "Note that these should be at the top directory of the `.zip` file (e.g. they should not be in a directory in the `.zip` file, as this will lead our autograder to fail at finding them).\n",
        "To prevent this, ensure that you are only zipping the items mentioned, and not the folder containing them.\n",
        "`Gradescope` will then automatically `unzip` the folder so that your\n",
        "submission contains the following.\n",
        "```\n",
        "deps/\n",
        "pa1.ipynb\n",
        "```"
      ]
    },
    {
      "cell_type": "markdown",
      "metadata": {
        "id": "iRZdYG4raTMj"
      },
      "source": [
        "**Submission Script.**\n",
        "For your convenience, we are providing the following submission script that lets you automatically create a `zip` file to submit.\n",
        "Simply run it and submit `submission.zip` to `Gradescope`.\n",
        "Note that the script assumes that you have the `zip` utility installed.\n",
        "You would need to install it if you don't already have it."
      ]
    },
    {
      "cell_type": "code",
      "execution_count": 1,
      "metadata": {
        "id": "3UmC4xynbYbc",
        "tags": [
          "exploration"
        ],
        "colab": {
          "base_uri": "https://localhost:8080/"
        },
        "outputId": "4a63e035-71b9-46ed-8b86-b1bb7048ddc6"
      },
      "outputs": [
        {
          "output_type": "stream",
          "name": "stdout",
          "text": [
            "WARNING: Did not find notebook in Jupyter working directory. This probably means you're running on Google Colab. You'll need to go to File->Download .ipynb to download your notebok and other files, then zip them locally. See the README for more information.\n"
          ]
        }
      ],
      "source": [
        "%%bash\n",
        "\n",
        "if [[ ! -f \"./pa1.ipynb\" ]]\n",
        "then\n",
        "    echo \"WARNING: Did not find notebook in Jupyter working directory. This probably means you're running on Google Colab. You'll need to go to File->Download .ipynb to download your notebok and other files, then zip them locally. See the README for more information.\"\n",
        "else\n",
        "    echo \"Found notebook file, creating submission zip...\"\n",
        "    zip -r submission.zip pa1.ipynb deps/\n",
        "fi"
      ]
    },
    {
      "cell_type": "markdown",
      "metadata": {
        "id": "rC7Ji3nxbo2Z"
      },
      "source": [
        "If you are running your notebook on `Google Colab`, see the `README` for instructions on how to submit.\n"
      ]
    },
    {
      "cell_type": "markdown",
      "metadata": {
        "id": "mHHWQZvAZPZ4"
      },
      "source": [
        "**Autograder.**\n",
        "Once you submit, double check the autograder output to ensure that your submission didn't cause any error."
      ]
    },
    {
      "cell_type": "markdown",
      "metadata": {
        "id": "PnnkT9eMhBlJ"
      },
      "source": [
        "<a id=\"environment_check\"></a>\n",
        "## Environment Check"
      ]
    },
    {
      "cell_type": "markdown",
      "metadata": {
        "id": "2cyv1CAE-o-m"
      },
      "source": [
        "This assignment assumes that you have correctly set up the `cs124` conda environment and installed the required `Python` modules.\n",
        "The cell below checks that you are running the correct version of `Python` and activated the `cs124` conda environment.\n",
        "If you are running the notebook on `Google Colab`, you need to download the `Python` extra modules we use in the assignment separately.\n",
        "If you get an error running this cell, it means that you are either using the wrong `Conda` environment\n",
        "or Python version!\n",
        "If the latter, please exit this notebook, kill the notebook server with `CTRL-C`, and\n",
        "try running:\n",
        "\n",
        "`$ conda activate cs124`\n",
        "\n",
        "Then restarting your notebook server with\n",
        "\n",
        "`$ jupyter notebook`\n",
        "\n",
        "If this doesn't work, you should go back and follow the installation instructions in `PA0`."
      ]
    },
    {
      "cell_type": "code",
      "execution_count": 2,
      "metadata": {
        "id": "rUVLxfnHiPbK",
        "tags": [
          "essential"
        ]
      },
      "outputs": [],
      "source": [
        "import os\n",
        "import sys\n",
        "assert sys.version_info.major == 3 and sys.version_info.minor >= 8  # Allow newer versions"
      ]
    },
    {
      "cell_type": "markdown",
      "metadata": {
        "id": "OdAYv1X28NIT"
      },
      "source": [
        "<a id=\"setup\"></a>\n",
        "## Part 0. Setup"
      ]
    },
    {
      "cell_type": "markdown",
      "metadata": {
        "id": "hQ8pMJZJDIJu"
      },
      "source": [
        "**Getting the Necessary Files.** The cell below downloads the necessary files we will use in this assignment, if you don't already have them.\n",
        "This may be the case, for example, if you are running the assignment on `Google Colab`."
      ]
    },
    {
      "cell_type": "code",
      "execution_count": 6,
      "metadata": {
        "id": "LkwF0Sb28d7-",
        "tags": [
          "exploration"
        ]
      },
      "outputs": [],
      "source": [
        "%%bash\n",
        "\n",
        "# Check if the ./data folder exists.\n",
        "# Download it if not found.\n",
        "if [[ ! -d \"./data\" ]]\n",
        "then\n",
        "    echo \"Missing extra files. Downloading...\"\n",
        "    git clone https://github.com/cs124/pa1-regular-expressions.git\n",
        "    # The cloned repository is named 'pa1-regular-expressions', not 'pa1-regexes'\n",
        "    cp -r ./pa1-regular-expressions/{data,deps,util.py} .\n",
        "fi"
      ]
    },
    {
      "cell_type": "markdown",
      "metadata": {
        "id": "0dSKvfgi-Mna"
      },
      "source": [
        "**Importing Modules.** Run the next cell to import the necessary modules we will use in this assignment."
      ]
    },
    {
      "cell_type": "code",
      "execution_count": 7,
      "metadata": {
        "id": "OhuxbSxv-99D",
        "tags": [
          "essential"
        ]
      },
      "outputs": [],
      "source": [
        "\"\"\" Modules included in the Python Standard Library \"\"\"\n",
        "\n",
        "# We use features from io and os modules for opening files and writing to them\n",
        "from io import open\n",
        "import os\n",
        "\n",
        "# re module contain methods for using regular expressions\n",
        "import re\n",
        "\n",
        "# typing module contains type objects. We will use these types to ensure that\n",
        "# the inputs and outputs passed to the functions you will be implementing are\n",
        "# of the correct type\n",
        "from typing import List"
      ]
    },
    {
      "cell_type": "code",
      "execution_count": 8,
      "metadata": {
        "id": "9j_qPAcZUvFb",
        "tags": [
          "essential"
        ]
      },
      "outputs": [],
      "source": [
        "\"\"\" Our custom functions and classes \"\"\"\n",
        "\n",
        "# Helper functions we will use later\n",
        "from util import process_dir, get_gold, score"
      ]
    },
    {
      "cell_type": "markdown",
      "metadata": {
        "id": "ma5Fcxt9_X1d"
      },
      "source": [
        "**Note:** **DO NOT** import and use any other packages outside of the Python standard\n",
        "library. Although we provide `NumPy`, `scikit-learn`, and other packages in\n",
        "the `Conda` environment we set up for you, you will not be using them in this assignment, only\n",
        "in later assignments. Importing them in your solution will cause it to fail the\n",
        "autograder."
      ]
    },
    {
      "cell_type": "markdown",
      "metadata": {
        "id": "L98XWjQyjUw8"
      },
      "source": [
        "<a id=\"data_exploration\"></a>\n",
        "## Part 1. Data Exploration"
      ]
    },
    {
      "cell_type": "markdown",
      "metadata": {
        "id": "F8srZPWSq5IQ"
      },
      "source": [
        "Let's start by taking a look at what our data actually looks like.\n",
        "This should always be one of the first things you do whenever you are solving a problem that requires working with data."
      ]
    },
    {
      "cell_type": "markdown",
      "metadata": {
        "id": "7wYDkGUK_xok"
      },
      "source": [
        "**Development Set.** In order to make your life easier on this and future homeworks, we will be\n",
        "giving you some data to study and test your code on, which we call a\n",
        "`development set` or a `dev set`.\n",
        "Using a dev set to test and evaluate your methods is an extremely common approach in `Natural Language Processing` and `Machine Learning`.\n",
        "More generally, coming up with a robust set of test cases to evaluate your work against is an extremely important part of writing good code.\n",
        "\n",
        "Our dev set consists of a bunch of `HTML` documents (the personal\n",
        "homepages of some `Stanford CS` professors) that we have scraped from the web and downloaded for you.\n",
        "If you are not familiar with the details of `HTML` or its syntax, it's fine.\n",
        "For the purposes of this assignment, all you need to know is that the inputs are text files (with some formatting) that contain the (possibly obfuscated) emails and phone numbers that we want to extract.\n",
        "You can find all of these `HTML` documents in the `data/dev` directory."
      ]
    },
    {
      "cell_type": "markdown",
      "metadata": {
        "id": "_u-uRvlRPhDP"
      },
      "source": [
        "**Exploration.** To visualize the documents in our dev set, you can take any of the files and open them in a browser of your choice!\n",
        "For example, by right-clicking on `data/dev/dabo.html` and clicking `open with -> Firefox`.\n",
        "You can also try double-clicking, which usually opens the page in your default browser.\n",
        "Feel free to change the filename to some of the other files in `data/dev`\n",
        "(i.e. `dabo` to `aiken`, `balaji`, etc.) to take a look at some of the other\n",
        "faculty pages.\n",
        "```\n",
        "Mini Task: Open data/dev/dabo.html and look for email addresses/phone numbers.\n",
        "What kind of regular expressions you would need to catch these?\n",
        "```\n",
        "You should find that, as expected, the page you opened looks exactly like a\n",
        "faculty webpage, possibly minus some images which we didn't download along\n",
        "with the `HTML`, but that's fine, as we are only interested in the text.\n",
        "As is common for faculty pages, these pages have contact information like email\n",
        "addresses and phone numbers. Our goal is to write regular expressions\n",
        "that we can use to automatically match and extract these from the webpages."
      ]
    },
    {
      "cell_type": "markdown",
      "metadata": {
        "id": "rVUlBWm4PhDP",
        "pycharm": {
          "name": "#%% md\n"
        }
      },
      "source": [
        "**Reading the HTML Documents.**\n",
        "We have seen what the files look like as webpages.\n",
        "However, we are interested in the text contents, as that is what we will be matching with our regular expressions.\n",
        "Let's try reading in the `data/dev/dabo.html` as a single giant text string."
      ]
    },
    {
      "cell_type": "code",
      "execution_count": 9,
      "metadata": {
        "id": "Ta65JviGPhDP",
        "pycharm": {
          "name": "#%%\n"
        },
        "tags": [
          "exploration"
        ],
        "colab": {
          "base_uri": "https://localhost:8080/"
        },
        "outputId": "c87c4b18-63df-45f5-ca4c-ec976b5a656e"
      },
      "outputs": [
        {
          "output_type": "stream",
          "name": "stdout",
          "text": [
            "<html>\n",
            "\n",
            "<head>\n",
            "<meta http-equiv=\"Content-Type\" content=\"text/html; charset=iso-8859-1\">\n",
            "<meta name=\"GENERATOR\" content=\"Microsoft FrontPage 4.0\">\n",
            "<base href=\"http://crypto.stanford.edu/~dabo/index.html\">\n",
            "<title>Dan Boneh</title>\n",
            "</head>\n",
            "\n",
            "<body background=\"background.gif\" text=\"#000000\" link=\"#00006F\" vlink=\"#003F00\"\n",
            "alink=\"#7F0000\">\n",
            "\n",
            "<div align=\"left\">\n",
            " \n",
            "\n",
            "\n",
            "<table border=\"0\" cellspacing=\"0\" cellpadding=\"15\">\n",
            "\n",
            "<tr> \n",
            "   <td></td>\n",
            "\n",
            "\n",
            "\n",
            "<td>\n",
            "<a href=\"pubs.html\" \n",
            "\tonMouseOver=\"pubs.src='icons/pubsON.gif';\"\n",
            "\tonMouseOut=\"pubs.src='icons/pubs.gif';\">\n",
            "\t<img border=\"0\" src=\"icons/pubs.gif\" alt=\"Publications\" name=\"pubs\"></a> <BR>\n",
            "<a href=\"#courses\"\n",
            "\tonMouseOver=\"courses.src='icons/coursesON.gif';\"\n",
            "\tonMouseOut=\"courses.src='icons/courses.gif';\">\n",
            "\t<img border=\"0\" src=\"icons/courses.gif\" alt=\"Courses\" name=\"courses\"></a> <BR>\n",
            "<a href=\"http://crypto.stanford.edu\" \n",
            "\tonMouseOver=\"students.src='icons/studentsON.gif';\"\n",
            "\tonMouseOut=\"students.src='icons/students.gif';\">\n",
            "\t<img border=\"0\" src=\"icons/students.gif\" alt=\"Students\" name=\"students\"></a>\n",
            "</td>\n",
            "\n",
            "\n",
            "\n",
            "<tr>\n",
            "   <td bgcolor=\"#000080\">&nbsp;</td>\n",
            "   <td>\n",
            "\n",
            "<h1 align=\"left\"><font face=\"Comic Sans MS\" color=\"#000000\">\n",
            "Dan Boneh</font></h1>\n",
            "\n",
            "<p align=\"left\">&nbsp;&nbsp;&nbsp;&nbsp;&nbsp; \n",
            "<img src=\"icons/devil01.gif\" width=\"62\" height=\"61\"> </p>\n",
            "\n",
            "<address align=\"left\">\n",
            "  dabo@cs.stanford.edu \n",
            "</address>\n",
            "\n",
            "<p align=\"left\">Professor of \n",
            "<a href=\"http://cs.stanford.edu\">Computer Science</a>\n",
            "and <a href=\"http://ee.stanford.edu\">Electrical Engineering</a>, <a\n",
            "href=\"http://www.stanford.edu\">Stanford University</a>. </p>\n",
            "\n",
            "<h2><font face=\"Comic Sans MS\">Conferences</font></h2>\n",
            "<p>Some conferences and journals I am currently involved with.\n",
            "<ul>\n",
            "  <li><a href=\"http://www.usenix.org/events/sec08/index.html\">Usenix Security 2008</a>\n",
            "  <li><a href=\"http://www.usenix.org/events/upsec08/cfp/\">Usenix Usable Security '08</a>\n",
            "  <li><a href=\"http://www.iacr.org/conferences/crypto2009/\">Crypto 2009</a>\n",
            "  <li>General chair <a href=http://crypto.stanford.edu/tcc09>TCC 2009</a></li>\n",
            "  <li>Editor of <a href=\"http://link.springer.de/link/service/journals/00145/\">Journal of \n",
            "     Cryptology</a>.</li>\n",
            "<br>\n",
            "</ul>\n",
            "\n",
            "<hr>\n",
            "\n",
            "<h4><font face=\"Comic Sans MS\">Address</font></h4>\n",
            "\n",
            "<ul>\n",
            "  <li>Mail: Computer Science Dept., Gates 475, Stanford, CA, 94305-9045 </li>\n",
            "  <li>Office: CS Building, Gates 475. </li>\n",
            "  <li><a href=http://forum.stanford.edu/visitors/directions/gates.php>Directions</a> to the Gates building.\n",
            "</ul>\n",
            "\n",
            "<h4><font face=\"Comic Sans MS\">Telephone</font> <img src=\"icons/phone.gif\"\n",
            "align=\"absmiddle\" hspace=\"10\" width=\"34\" height=\"29\"> </h4>\n",
            "\n",
            "<ul>\n",
            "  <li>Office: (650) 725-3897 </li>\n",
            "  <li>Fax: (650) 725-4671 </li>\n",
            "</ul>\n",
            "\n",
            "<hr>\n",
            "\n",
            "<h2><font face=\"Comic Sans MS\">Research Interests</font></h2>\n",
            "\n",
            "<p>My main research focus is on applied cryptography, and network security. </p>\n",
            "\n",
            "<p>Here is a list of my <strong><a href=\"pubs.html\">publications</a></strong> and current <a\n",
            "href=\"http://crypto.stanford.edu/\">students and research group</a>.</p>\n",
            "\n",
            "<p>Take a look at our <a href=\"http://crypto.stanford.edu/seclab/\">Security Lab</a>. We\n",
            "are also running a biweekly <a href=\"http://crypto.Stanford.EDU/seclab/sem.html\">security\n",
            "seminar</a>.</p>\n",
            "\n",
            "<h3><font face=\"Comic Sans MS\"><a name=\"courses\"></a>Courses</font></h3>\n",
            "\n",
            "<ul>\n",
            "  <li><font face=\"Arial\"><a href=\"cs55N\"><b>CS55N</b></a>\n",
            "    (freshmen seminar)</font>:\n",
            "    Ten ideas in computer security and cryptography\n",
            "    <ul>\n",
            "      <li><a href=\"http://crypto.stanford.edu/~dabo/courses/cs55N_fall05/\">Fall\n",
            "        05</a>.</li>\n",
            "      <li><a href=\"http://crypto.stanford.edu/~dabo/courses/cs55N_fall03/\">Fall\n",
            "        03</a>.</li>\n",
            "      <li><a href=\"http://crypto.stanford.edu/~dabo/courses/cs99M_fall99/\">Fall\n",
            "        99</a>.</li>\n",
            "    </ul>\n",
            "    <p>&nbsp;</li>\n",
            "\n",
            "  <li><a href=\"http://crypto.stanford.edu/cs155\"><font face=\"Arial\"><b>CS155</b></font></a>: Computer and\n",
            "    network security\n",
            "    <ul>\n",
            "      <li><a href=\"http://crypto.stanford.edu/cs155\">Spring 08.</a></li>\n",
            "      <li><a href=\"http://crypto.stanford.edu/cs155old/cs155-spring07\">Spring 07.</a></li>\n",
            "      <li><a href=\"http://crypto.stanford.edu/cs155old/cs155-spring06\">Spring 06.</a></li>\n",
            "      <li><a href=\"http://crypto.stanford.edu/cs155old/cs155-spring05\">Spring 05.</a></li>\n",
            "      <li><a href=\"http://crypto.stanford.edu/cs155old/cs155-spring04\">Spring 04.</a></li>\n",
            "      <li><a href=\"http://crypto.stanford.edu/cs155old/cs155-spring03\">Spring 03.</a></li>\n",
            "      <li><a href=\"http://crypto.stanford.edu/cs155old/cs155-spring02\">Spring 02.</a></li>\n",
            "    </ul>\n",
            "    <p>&nbsp;</li>\n",
            "\n",
            "  <li><a href=\"cs255\"><font face=\"Arial\"><b>CS255</b></font></a>: Introduction to cryptography.&nbsp;\n",
            "    <ul>\n",
            "      <li><a href=\"courses/cs255_winter09/\"> Winter 09</a>.</li>\n",
            "      <li><a href=\"courses/cs255_winter08/\"> Winter 08</a>.</li>\n",
            "      <li><a href=\"courses/cs255_winter07/\"> Winter 07</a>.</li>\n",
            "      <li><a href=\"courses/cs255_winter06/\"> Winter 06</a>.</li>\n",
            "      <li><a href=\"courses/cs255_winter05/\"> Winter 05</a>.</li>\n",
            "      <li><a href=\"courses/cs255_winter04/\"> Winter 04</a>.</li>\n",
            "      <li><a href=\"courses/cs255_winter03/\"> Winter 03</a>.</li>\n",
            "      <li><a href=\"courses/cs255_winter02/\"> Winter 02</a>.</li>\n",
            "      <li><a href=\"courses/cs255_winter01/\"> Winter 01</a>.</li>\n",
            "      <li><a href=\"courses/cs255_winter00/\"> Winter 00</a>.</li>\n",
            "      <li><a href=\"courses/cs255_winter99/\"> Winter 99</a>.</li>\n",
            "      <li><a href=\"courses/cs255_winter98/\">Winter 98</a>.</li>\n",
            "    </ul>\n",
            "    <p>&nbsp; </li>\n",
            "  <li><a href=\"cs355\"><font face=\"Arial\"><b>CS355</b></font></a>: Topics in cryptography.\n",
            "    <ul>\n",
            "      <li><a href=\"courses/cs355_fall07/\">Fall 07</a>.</li>\n",
            "      <li><a href=\"courses/cs355_fall04/\">Fall 04</a>.</li>\n",
            "      <li><a href=\"courses/cs355_fall02/\">Fall 02</a>.</li>\n",
            "      <li><a href=\"courses/cs355_spring00/\">Spring 00</a>.</li>\n",
            "      <li><a href=\"courses/cs355_fall98/\">Fall 98</a>.</li>\n",
            "    </ul>\n",
            "    <p>&nbsp;\n",
            " </li>\n",
            "  <li><a href=\"http://www.stanford.edu/class/cs161/\"><font face=\"Arial\"><b>CS161</b></font></a>: <font size=\"3\">Design\n",
            "    and Analysis of Algorithms</font>\n",
            "    <ul>\n",
            "      <li><a href=\"courses/cs161_fall01/\">Fall 01</a>.</li>\n",
            "      <li><a href=\"courses/cs161_spring01/\">Spring 01</a>.</li>\n",
            "    </ul>\n",
            "    <p>&nbsp;\n",
            " </li>\n",
            "</ul>\n",
            "\n",
            "<hr>\n",
            "\n",
            "<h3><a href=\"links.html\"><font face=\"Comic Sans MS\">Links</font></a></h3>\n",
            "\n",
            "<p>Some  <a href=\"links.html\">links</a> related to cryptography\n",
            "and life in general.  </p>\n",
            "\n",
            "\n",
            "      </td>\n",
            "  </table>\n",
            "<hr>\n",
            "<address>\n",
            "  <a href=\"http://crypto.stanford.edu\">Applied crypto group</a>, \n",
            "  <a href=\"http://www.cs.stanford.edu/\">CS Department</a>, \n",
            "  <a href=\"http://www.stanford.edu\">Stanford University</a> \n",
            "</address>\n",
            "</body>\n",
            "</html>\n",
            "\n"
          ]
        }
      ],
      "source": [
        "# Open and read a file as a gigantic string\n",
        "with open(\"data/dev/dabo.html\", 'r', encoding='ISO-8859-1') as file:\n",
        "    full_text = file.read()\n",
        "    print(full_text)"
      ]
    },
    {
      "cell_type": "markdown",
      "metadata": {
        "id": "F2XMkt-APhDQ"
      },
      "source": [
        "Okay, it's a bit long and hard to parse, but it seems reasonable!\n",
        "There's a bunch of somewhat cluttered `HTML` markup, but it's all in text form and if we search through it, it looks like all of the text from the page including the emails and phone numbers, is somewhere in there.\n",
        "In the remainder of this assignment, you will come back to printing the strings for the `HTML` documents to understand the cases to improve your regular expressions by finding the cases that they are missing."
      ]
    },
    {
      "cell_type": "markdown",
      "metadata": {
        "id": "94Qmp95Mc2d9"
      },
      "source": [
        "<a id=\"example_approach\"></a>\n",
        "## Part 2. Example Approach"
      ]
    },
    {
      "cell_type": "markdown",
      "metadata": {
        "id": "YjYGda9v2gyy"
      },
      "source": [
        "Now that we have learned how to load `HTML` documents from our dataset and inspect them, let's see if we can extract some email addresses using a regular expression pattern.\n",
        "In this case we will use a super-simple pattern that just looks for 1 or more alphanumeric characters or periods followed by an `@` followed by 1 or more\n",
        "alphanumeric characters or periods, followed by `.edu`. This is just the usual\n",
        "format of an email address.\n",
        "```\n",
        "leland1@stanford.edu\n",
        "```\n",
        "We can achieve our goal with the following regular expression.\n",
        "```\n",
        "([\\w\\.]+)@([\\w\\.]+\\.edu)\n",
        "```\n",
        "Let's break down what this pattern does!\n",
        "* `\\w`: A word character, same as the regular expression `[A-Za-z0-9_]`. Note that it matches `_` too!\n",
        "* `[\\w.]`: Matches any word character or `.`. Note that we don't need to use an escape character before `.`, since any character other than `^`, `-`, `\\` or `]` is interpreted as a literal in a character class (which is denoted by `[]`).\n",
        "* `[\\w\\.]+`: Matches at least 1 word character or period. This is the pattern we wanted to match for the name part of the regular expression, so we are done!\n",
        "* `[\\w\\.]+\\.edu`: Matches at least 1 word character or period followed by `.edu`. Note that we have to use an escape character before the period this time around.\n",
        "* `(...)`: Capture groups for saving the matches.\n",
        "That is, the regular expression engine will not only match the expression inside `()` to a part of an expression, but also record the matched part in a capture group, which we can retrieve later.\n",
        "* `([\\w\\.]+)` and `([\\w\\.]+.edu)`: The capture groups are used to capture the part of the email before and after the `@`, respectively.\n",
        "\n",
        "Let's test our pattern on a short string.\n",
        "Notice how we use the formatter character `%` in combination with tuples to build strings in our desired format.\n"
      ]
    },
    {
      "cell_type": "code",
      "execution_count": 10,
      "metadata": {
        "colab": {
          "base_uri": "https://localhost:8080/"
        },
        "id": "Mo384XNrOOT5",
        "outputId": "8b193e06-944a-4268-a85d-820b9dfc4896",
        "tags": [
          "exploration"
        ]
      },
      "outputs": [
        {
          "output_type": "stream",
          "name": "stdout",
          "text": [
            "The first capture group is: leland1\n",
            "The second capture group is: stanford.edu\n",
            "The first and second capture groups are: leland1 and stanford.edu\n",
            "leland1@stanford.edu\n"
          ]
        }
      ],
      "source": [
        "\"\"\"\n",
        "The function re.findall takes a regex pattern and a text string and returns all\n",
        "matches in the string as a list. Each match in the list is a tuple of the\n",
        "capture groups in the expression. So in this case, each element in matches will\n",
        "be a tuple of form:\n",
        "\n",
        "    (stuff before '@', stuff after '@')\n",
        "\n",
        "\"\"\"\n",
        "# Create the example string and patter\n",
        "example = 'The email address is leland1@stanford.edu.'\n",
        "simple_pattern = '([\\w\\.]+)@([\\w\\.]+\\.edu)'\n",
        "\n",
        "# Find the matches, which are returned as a list containing two-tuples\n",
        "matches = re.findall(simple_pattern, example)\n",
        "\n",
        "# Iterate over the matches\n",
        "for m in matches:\n",
        "    # Print matches\n",
        "    print(\"The first capture group is: %s\" % m[0])\n",
        "    print(\"The second capture group is: %s\" % m[1])\n",
        "    print(\"The first and second capture groups are: %s and %s\" % m)\n",
        "\n",
        "    # Put the email back together\n",
        "    email = '%s@%s' % m\n",
        "    print(email)"
      ]
    },
    {
      "cell_type": "markdown",
      "metadata": {
        "id": "_3DzrZlMUNLC"
      },
      "source": [
        "Observe how we put the email back together using capture groups.\n",
        "We can now wrap the same code above in a function, that takes in a string and returns the list of emails found in the string."
      ]
    },
    {
      "cell_type": "code",
      "execution_count": 11,
      "metadata": {
        "id": "g7mtXCqFT6uL",
        "tags": [
          "exploration"
        ]
      },
      "outputs": [],
      "source": [
        "# Define our function\n",
        "def example_find_emails(full_text: str) -> List[str]:\n",
        "    \"\"\"\n",
        "    This is an example function that takes a string and finds the emails in\n",
        "    it. Returns the found emails in a list of strings. The returned emails\n",
        "    must follow the canonical format:\n",
        "\n",
        "              'someone@something'\n",
        "\n",
        "    We use -> to show the return type of the function. Typing isn't explicitly\n",
        "    enforced in Python, so we didn't have to specify the return type of our\n",
        "    function, but we are specifying them in this assignment to help you tackle\n",
        "    errors in an easier way.\n",
        "\n",
        "    full_text (str): Full text of the html file read.\n",
        "    \"\"\"\n",
        "    # The simple pattern\n",
        "    simple_pattern = '([\\w\\.]+)@([\\w\\.]+\\.edu)'\n",
        "    matches = re.findall(simple_pattern, full_text)\n",
        "\n",
        "    # Iterate over the matches\n",
        "    res = []\n",
        "    for m in matches:\n",
        "        email = '%s@%s' % m\n",
        "        res.append(email)\n",
        "    return res"
      ]
    },
    {
      "cell_type": "markdown",
      "metadata": {
        "id": "s9G5srLmiTk_"
      },
      "source": [
        "Let's see if our function works as expected."
      ]
    },
    {
      "cell_type": "code",
      "execution_count": 12,
      "metadata": {
        "colab": {
          "base_uri": "https://localhost:8080/"
        },
        "id": "Crl0FNrVVvsP",
        "outputId": "8d964dc5-9a2a-4b9e-bb48-28bfb918863f",
        "tags": [
          "exploration"
        ]
      },
      "outputs": [
        {
          "output_type": "execute_result",
          "data": {
            "text/plain": [
              "['leland1@stanford.edu']"
            ]
          },
          "metadata": {},
          "execution_count": 12
        }
      ],
      "source": [
        "# Call our function\n",
        "example_line = 'The email address is leland1@stanford.edu.'\n",
        "example_find_emails(example_line)"
      ]
    },
    {
      "cell_type": "markdown",
      "metadata": {
        "id": "xsmteU41b_hR"
      },
      "source": [
        "Great! We now have a simple function that we can call on a string to extract\n",
        "email in simple forms.\n",
        "Since we also need to extract phone numbers, we need a function that returns a list of phone number strings.\n",
        "To do so, we need to find a regular expression string that matches phone numbers in various different forms and implement our function similar to the **`example_find_emails()`** function.\n",
        "For demonstration, we are sharing a dummy function that just returns an empty list.\n",
        "When you are implementing this section in `Part 4. Your Turn` you will need to extract the phone numbers using regular expressions."
      ]
    },
    {
      "cell_type": "code",
      "execution_count": 13,
      "metadata": {
        "id": "xNWYo_4xiZkD",
        "tags": [
          "exploration"
        ]
      },
      "outputs": [],
      "source": [
        "def example_find_phone_numbers(full_text: str) -> List[str]:\n",
        "    \"\"\"\n",
        "    This is an example function that takes in a string and finds the phone\n",
        "    numbers in it. Returns the found numbers in a list of strings. The returned\n",
        "    numbers must follow the canonical format, where # represent digits:\n",
        "\n",
        "              '###-###-#####'\n",
        "\n",
        "    full_text (str): Full text of the html file read.\n",
        "    \"\"\"\n",
        "    return []"
      ]
    },
    {
      "cell_type": "markdown",
      "metadata": {
        "id": "4MS2K7CekqsK"
      },
      "source": [
        "Let's try calling our example phone number function."
      ]
    },
    {
      "cell_type": "code",
      "execution_count": 14,
      "metadata": {
        "colab": {
          "base_uri": "https://localhost:8080/"
        },
        "id": "LSDGHbsqku1_",
        "outputId": "5644d45e-feb2-43f3-b950-f6284d0a35f5",
        "tags": [
          "exploration"
        ]
      },
      "outputs": [
        {
          "output_type": "execute_result",
          "data": {
            "text/plain": [
              "[]"
            ]
          },
          "metadata": {},
          "execution_count": 14
        }
      ],
      "source": [
        "example_line = 'The phone number is 510-642-6000.'\n",
        "example_find_phone_numbers(example_line)"
      ]
    },
    {
      "cell_type": "markdown",
      "metadata": {
        "id": "8BoOV4EWj1Tu"
      },
      "source": [
        "Our function returned an empty list, which is what we expected!"
      ]
    },
    {
      "cell_type": "markdown",
      "metadata": {
        "id": "bJYfDOAAPhDL"
      },
      "source": [
        "<a id=\"evaluation\"></a>\n",
        "## Part 3. Evaluation"
      ]
    },
    {
      "cell_type": "markdown",
      "metadata": {
        "id": "Vu_55L0jmdTz"
      },
      "source": [
        "Evaluation is a crucial step of any kind of `NLP` or `ML` project.\n",
        "For us to be able to evaluate how our functions are doing, we need some sort of grounding.\n",
        "In addition to the `HTML` documents, the `data` directory also contains\n",
        "another file, `data/devGOLD`.\n",
        "You can think of this file as the answer key corresponding to the documents in `data/dev`.\n",
        "It contains all the correctly extracted phone numbers and emails from all the documents in `data/dev`, in a particular format so your scripts as well as our grading scripts can read them easily."
      ]
    },
    {
      "cell_type": "markdown",
      "metadata": {
        "id": "o9pxUpD1nscJ"
      },
      "source": [
        "### Part 3.1. Format Matches\n"
      ]
    },
    {
      "cell_type": "markdown",
      "metadata": {
        "id": "RWsn5xg8mjpQ"
      },
      "source": [
        "Each line in the `data/devGOLD` file represents one extracted email address\n",
        "or phone number in the form of a 3-tuple.\n",
        "Each tuple is represented as 3 strings separated by vertical bars (\"|\").\n",
        "You can open the `data/devGOLD` file to see for yourself.\n",
        "\n",
        "```\n",
        "jurafsky|e|jurafsky@stanford.edu\n",
        "```\n",
        "\n",
        "* The **first** string is the name of the file that the match came from where the `.html` extension removed.\n",
        "* The **second** string is an `e` if the match was an email address, or a\n",
        "`p` if it was a phone number.\n",
        "* The **third** string is the actual extracted email address or phone number itself,\n",
        "in the following canonical form.\n",
        "\n",
        "```\n",
        "  user@example.com\n",
        "  650-555-1234\n",
        "```\n",
        "\n",
        "To sum up, the answers in the ```data/devGOLD``` file and the outputs\n",
        "generated by your implementation should take the form of `Python` tuples\n",
        "that look like the following.\n",
        "\n",
        "```\n",
        "  (filename, match type, match value)\n",
        "```\n",
        "\n",
        "The functions we have coded so far can take in a string and return the list of extracted email addresses and phone numbers in a their respective list.\n",
        "To be able to evaluate our functions, we need another function that will call our functions on each line of a file, and output the results in the specified format above. The function shared in the next cell, **`example_process_file()`** does exactly this.\n",
        "\n",
        "__Note:__ You don't have to worry about case sensitivity in your values\n",
        "(email addresses or phone numbers), since they will be normalized to lower case\n",
        "before being compared with the answers.\n"
      ]
    },
    {
      "cell_type": "code",
      "execution_count": 15,
      "metadata": {
        "id": "Rqi9qJshn-S1",
        "tags": [
          "exploration"
        ]
      },
      "outputs": [],
      "source": [
        "def example_process_file(filename: str, data_directory: str):\n",
        "    \"\"\"\n",
        "    Function we wrote to call the functions listed below on each line of a file\n",
        "    with the given filename. It returns a list of 3-tuples representinting the\n",
        "    found matches in the specified evaluation format.\n",
        "\n",
        "    * example_find_emails()\n",
        "    * example_find_phone_numbers functions\n",
        "\n",
        "    \"\"\"\n",
        "    # The format of our evaluation matches requires stripping the \".html\"\n",
        "    # extension from our filenames.\n",
        "    filename_no_ext, ext = filename.split('.')\n",
        "    absolute_file_path = os.path.join(data_directory, filename)\n",
        "    res = []\n",
        "    with open(absolute_file_path, 'r', encoding='ISO-8859-1') as file:\n",
        "        # Read the full text\n",
        "        full_text = file.read()\n",
        "        # Call example_find_emails\n",
        "        emails = [(filename_no_ext, 'e', e) for e in example_find_emails(full_text)]\n",
        "        # Call example_find_phone_numbers\n",
        "        phone_numbers = [(filename_no_ext, 'p', p) for p in example_find_phone_numbers(full_text)]\n",
        "        # Add the newly extracted emails and phone numbers to our list\n",
        "        res += emails + phone_numbers\n",
        "\n",
        "    return res"
      ]
    },
    {
      "cell_type": "markdown",
      "metadata": {
        "id": "VXnGB0u4qrFS"
      },
      "source": [
        "Let's check which emails and phone numbers our functions will find in a given file.\n",
        "Note that we do not expect to get any phone numbers since the `example_find_phone_number` is set to return an empty list."
      ]
    },
    {
      "cell_type": "code",
      "execution_count": 16,
      "metadata": {
        "colab": {
          "base_uri": "https://localhost:8080/"
        },
        "id": "0_ErgProq2Y0",
        "outputId": "c5583d6c-f89f-43b2-c865-f55c26368c78",
        "tags": [
          "exploration"
        ]
      },
      "outputs": [
        {
          "output_type": "stream",
          "name": "stdout",
          "text": [
            "[('dabo', 'e', 'dabo@cs.stanford.edu')]\n"
          ]
        }
      ],
      "source": [
        "result = example_process_file('dabo.html', 'data/dev')\n",
        "print(result)"
      ]
    },
    {
      "cell_type": "markdown",
      "metadata": {
        "id": "9-JjRuKJPhDR",
        "pycharm": {
          "name": "#%% md\n"
        }
      },
      "source": [
        "Success! It looks like we got our first match! The output of our function in\n",
        "this case is a list of matches, where each match is a tuple in the following format. The reason we want our output in this format is so that it works\n",
        "with our automated scoring later.\n",
        "```\n",
        "(file, e or p indicating email or phone number, extracted email or phone number)\n",
        "```\n",
        "\n",
        "In this case we can see that we have just a single match from the file `data/dev/dabo` which is an email and is the address `dabo@cs.stanford.edu`.\n",
        "Note that we only searched in this one file!"
      ]
    },
    {
      "cell_type": "markdown",
      "metadata": {
        "id": "Kgi3HOANPhDR",
        "pycharm": {
          "name": "#%% md\n"
        }
      },
      "source": [
        "So far we have seen how we can process a single file.\n",
        "However, our dev set consists of many such files.\n",
        "We need a function to loop over all of them, process them, and return all the extracted addresses.\n",
        "This function is provided for you in `util.py`, and it is named **`process_dir()`**!\n",
        "You shouldn't modify this function, but we encourage you to take a look at how it is implemented."
      ]
    },
    {
      "cell_type": "code",
      "execution_count": 17,
      "metadata": {
        "colab": {
          "base_uri": "https://localhost:8080/"
        },
        "id": "P877XKBgPhDR",
        "outputId": "aef8a1a6-4811-4d52-8568-1a9a8d5b95c7",
        "pycharm": {
          "name": "#%%\n"
        },
        "scrolled": true,
        "tags": [
          "exploration"
        ]
      },
      "outputs": [
        {
          "output_type": "stream",
          "name": "stdout",
          "text": [
            "[('dabo', 'e', 'dabo@cs.stanford.edu'), ('psyoung', 'e', 'patrick.young@stanford.edu'), ('psyoung', 'e', 'patrick.young@stanford.edu'), ('fedkiw', 'e', 'fedkiw@cs.stanford.edu'), ('fedkiw', 'e', 'fedkiw@cs.stanford.edu'), ('zm', 'e', 'manna@cs.stanford.edu'), ('zm', 'e', 'manna@cs.stanford.edu'), ('thm', 'e', 'pkrokel@Stanford.edu'), ('thm', 'e', 'pkrokel@Stanford.edu'), ('latombe', 'e', 'latombe@cs.stanford.edu'), ('latombe', 'e', 'latombe@cs.stanford.edu'), ('latombe', 'e', 'asandra@cs.stanford.edu'), ('latombe', 'e', 'asandra@cs.stanford.edu'), ('latombe', 'e', 'liliana@cs.stanford.edu'), ('latombe', 'e', 'liliana@cs.stanford.edu'), ('nick', 'e', 'nick.parlante@cs.stanford.edu'), ('nick', 'e', 'nick.parlante@cs.stanford.edu'), ('kosecka', 'e', 'kosecka@cs.gmu.edu'), ('kosecka', 'e', 'kosecka@cs.gmu.edu'), ('hanrahan', 'e', 'hanrahan@cs.stanford.edu'), ('hanrahan', 'e', 'hanrahan@cs.stanford.edu'), ('nass', 'e', 'nass@stanford.edu'), ('nass', 'e', 'nass@stanford.edu'), ('nass', 'e', 'nass@stanford.edu'), ('nass', 'e', 'nass@stanford.edu'), ('cheriton', 'e', 'cheriton@cs.stanford.edu'), ('widom', 'e', 'siroker@cs.stanford.edu'), ('widom', 'e', 'widom@cs.stanford.edu'), ('eroberts', 'e', 'eroberts@cs.stanford.edu'), ('eroberts', 'e', 'eroberts@cs.stanford.edu'), ('levoy', 'e', 'ada@graphics.stanford.edu'), ('levoy', 'e', 'melissa@graphics.stanford.edu'), ('zelenski', 'e', 'zelenski@cs.stanford.edu'), ('zelenski', 'e', 'zelenski@cs.stanford.edu'), ('jurafsky', 'e', 'jurafsky@stanford.edu'), ('balaji', 'e', 'balaji@stanford.edu'), ('kunle', 'e', 'kunle@ogun.stanford.edu'), ('kunle', 'e', 'kunle@ogun.stanford.edu'), ('kunle', 'e', 'darlene@csl.stanford.edu'), ('kunle', 'e', 'darlene@csl.stanford.edu'), ('shoham', 'e', 'shoham@stanford.edu'), ('shoham', 'e', 'shoham@stanford.edu'), ('rinard', 'e', 'rinard@lcs.mit.edu'), ('manning', 'e', 'manning@cs.stanford.edu'), ('manning', 'e', 'manning@cs.stanford.edu'), ('manning', 'e', 'dbarros@cs.stanford.edu'), ('manning', 'e', 'dbarros@cs.stanford.edu'), ('manning', 'e', 'manning@cs.stanford.edu'), ('manning', 'e', 'manning@cs.stanford.edu')]\n"
          ]
        }
      ],
      "source": [
        "all_results = process_dir('data/dev', example_process_file)\n",
        "\n",
        "print(all_results)"
      ]
    },
    {
      "cell_type": "markdown",
      "metadata": {
        "id": "PB8fLNs9PhDS",
        "pycharm": {
          "name": "#%% md\n"
        }
      },
      "source": [
        "Looks like we got quite a few more matches, even with our very simple pattern. You may have also noticed that our results have quite a few duplicates. If you\n",
        "examine the corresponding files, you can see that this is happening because\n",
        "the same email address (or phone number) appears more than once in the file. Don't worry about this for now, we wil be careful to strip out duplicates later when we are doing our scoring."
      ]
    },
    {
      "cell_type": "markdown",
      "metadata": {
        "id": "DehDnijau_IH"
      },
      "source": [
        "### Part 3.2. Compare to Gold"
      ]
    },
    {
      "cell_type": "markdown",
      "metadata": {
        "id": "DvNI_AB6PhDS",
        "pycharm": {
          "name": "#%% md\n"
        }
      },
      "source": [
        "The final step of the evaluation process is straightforward: all that needs to be done is to load the correct answers for the dev set from the provided file (`data/devGOLD`) and compare them to the matches that were generated by our function.\n",
        "We provide this helper function in `util.py`: it is called **`get_gold()`**.\n",
        "Again, you shouldn't modify it, but you can take a peek at it if you are curious what it's doing. Let's use it to read the gold (correct) matches from the provided file."
      ]
    },
    {
      "cell_type": "code",
      "execution_count": 18,
      "metadata": {
        "colab": {
          "base_uri": "https://localhost:8080/"
        },
        "id": "jh-bPQ5xPhDS",
        "outputId": "7632c76e-4e14-4cd2-fb4a-e2c1045e2e69",
        "pycharm": {
          "name": "#%%\n"
        },
        "tags": [
          "exploration"
        ]
      },
      "outputs": [
        {
          "output_type": "stream",
          "name": "stdout",
          "text": [
            "[('ashishg', 'e', 'ashishg@stanford.edu'), ('ashishg', 'e', 'rozm@stanford.edu'), ('ashishg', 'p', '650-723-1614'), ('ashishg', 'p', '650-723-4173'), ('ashishg', 'p', '650-814-1478'), ('balaji', 'e', 'balaji@stanford.edu'), ('bgirod', 'p', '650-723-4539'), ('bgirod', 'p', '650-724-3648'), ('bgirod', 'p', '650-724-6354'), ('cheriton', 'e', 'cheriton@cs.stanford.edu'), ('cheriton', 'e', 'uma@cs.stanford.edu'), ('cheriton', 'p', '650-723-1131'), ('cheriton', 'p', '650-725-3726'), ('dabo', 'e', 'dabo@cs.stanford.edu'), ('dabo', 'p', '650-725-3897'), ('dabo', 'p', '650-725-4671'), ('eroberts', 'e', 'eroberts@cs.stanford.edu'), ('eroberts', 'p', '650-723-3642'), ('eroberts', 'p', '650-723-6092'), ('fedkiw', 'e', 'fedkiw@cs.stanford.edu'), ('hager', 'e', 'hager@cs.jhu.edu'), ('hager', 'p', '410-516-5521'), ('hager', 'p', '410-516-5553'), ('hager', 'p', '410-516-8000'), ('hanrahan', 'e', 'hanrahan@cs.stanford.edu'), ('hanrahan', 'p', '650-723-0033'), ('hanrahan', 'p', '650-723-8530'), ('horowitz', 'p', '650-725-3707'), ('horowitz', 'p', '650-725-6949'), ('jurafsky', 'e', 'jurafsky@stanford.edu'), ('jurafsky', 'p', '650-723-5666'), ('kosecka', 'e', 'kosecka@cs.gmu.edu'), ('kosecka', 'p', '703-993-1710'), ('kosecka', 'p', '703-993-1876'), ('kunle', 'e', 'darlene@csl.stanford.edu'), ('kunle', 'e', 'kunle@ogun.stanford.edu'), ('kunle', 'p', '650-723-1430'), ('kunle', 'p', '650-725-3713'), ('kunle', 'p', '650-725-6949'), ('lam', 'e', 'lam@cs.stanford.edu'), ('lam', 'p', '650-725-3714'), ('lam', 'p', '650-725-6949'), ('latombe', 'e', 'asandra@cs.stanford.edu'), ('latombe', 'e', 'latombe@cs.stanford.edu'), ('latombe', 'e', 'liliana@cs.stanford.edu'), ('latombe', 'p', '650-721-6625'), ('latombe', 'p', '650-723-0350'), ('latombe', 'p', '650-723-4137'), ('latombe', 'p', '650-725-1449'), ('levoy', 'e', 'ada@graphics.stanford.edu'), ('levoy', 'e', 'melissa@graphics.stanford.edu'), ('levoy', 'p', '650-723-0033'), ('levoy', 'p', '650-724-6865'), ('levoy', 'p', '650-725-3724'), ('levoy', 'p', '650-725-4089'), ('manning', 'e', 'dbarros@cs.stanford.edu'), ('manning', 'e', 'manning@cs.stanford.edu'), ('manning', 'p', '650-723-7683'), ('manning', 'p', '650-725-1449'), ('manning', 'p', '650-725-3358'), ('nass', 'e', 'nass@stanford.edu'), ('nass', 'p', '650-723-5499'), ('nass', 'p', '650-725-2472'), ('nick', 'e', 'nick.parlante@cs.stanford.edu'), ('nick', 'p', '650-725-4727'), ('ok', 'p', '650-723-9753'), ('ok', 'p', '650-725-1449'), ('pal', 'e', 'pal@cs.stanford.edu'), ('pal', 'p', '650-725-9046'), ('psyoung', 'e', 'patrick.young@stanford.edu'), ('rajeev', 'p', '650-723-4377'), ('rajeev', 'p', '650-723-6045'), ('rajeev', 'p', '650-725-4671'), ('rinard', 'e', 'rinard@lcs.mit.edu'), ('rinard', 'p', '617-253-1221'), ('rinard', 'p', '617-258-6922'), ('serafim', 'e', 'serafim@cs.stanford.edu'), ('serafim', 'p', '650-723-3334'), ('serafim', 'p', '650-725-1449'), ('shoham', 'e', 'shoham@stanford.edu'), ('shoham', 'p', '650-723-3432'), ('shoham', 'p', '650-725-1449'), ('subh', 'e', 'subh@stanford.edu'), ('subh', 'e', 'uma@cs.stanford.edu'), ('subh', 'p', '650-724-1915'), ('subh', 'p', '650-725-3726'), ('subh', 'p', '650-725-6949'), ('thm', 'e', 'pkrokel@stanford.edu'), ('thm', 'p', '650-725-3383'), ('thm', 'p', '650-725-3636'), ('thm', 'p', '650-725-3938'), ('tim', 'p', '650-724-9147'), ('tim', 'p', '650-725-2340'), ('tim', 'p', '650-725-4671'), ('ullman', 'e', 'ullman@cs.stanford.edu'), ('ullman', 'p', '650-494-8016'), ('ullman', 'p', '650-725-2588'), ('ullman', 'p', '650-725-4802'), ('vladlen', 'e', 'vladlen@stanford.edu'), ('widom', 'e', 'siroker@cs.stanford.edu'), ('widom', 'e', 'widom@cs.stanford.edu'), ('widom', 'p', '650-723-0872'), ('widom', 'p', '650-723-7690'), ('widom', 'p', '650-725-2588'), ('zelenski', 'e', 'zelenski@cs.stanford.edu'), ('zelenski', 'p', '650-723-6092'), ('zelenski', 'p', '650-725-8596'), ('zm', 'e', 'manna@cs.stanford.edu'), ('zm', 'p', '650-723-4364'), ('zm', 'p', '650-725-4671')]\n"
          ]
        }
      ],
      "source": [
        "all_gold_matches = get_gold('data/devGOLD')\n",
        "print(all_gold_matches)"
      ]
    },
    {
      "cell_type": "markdown",
      "metadata": {
        "id": "_kzcg2U8wy9w"
      },
      "source": [
        "As expected, these exactly match the output format that we showed earlier for the file processing function.\n",
        "This will make it easy to compare our answers to the gold answers, for which we provide a helper function in `util.py`, called **`score()`**.\n",
        "You are welcome to take a look if you are curious.\n",
        "It takes in a list of your predicted matches, the output of the function you will write, and a list of correct/gold matches, read from the `data/devGOLD` file.\n",
        "It compares the two and calculates how they overlap, printing out a bunch of information in the following form:\n",
        "\n",
        "```\n",
        "  True Positives (4):\n",
        "  set([('balaji', 'e', 'balaji@stanford.edu'),\n",
        "       ('nass', 'e', 'nass@stanford.edu'),\n",
        "       ('shoham', 'e', 'shoham@stanford.edu'),\n",
        "       ('thm', 'e', 'pkrokel@stanford.edu')])\n",
        "  False Positives (1):\n",
        "  set([('psyoung', 'e', 'young@stanford.edu')])\n",
        "  False Negatives (113):\n",
        "  set([('ashishg', 'e', 'ashishg@stanford.edu'),\n",
        "       ('ashishg', 'e', 'rozm@stanford.edu'),\n",
        "       ('ashishg', 'p', '650-723-1614'),\n",
        "       ('ashishg', 'p', '650-723-4173'),\n",
        "       ('ashishg', 'p', '650-814-1478'),\n",
        "  ...\n",
        "```\n",
        "\n",
        "You can interpret the results as follows:\n",
        "\n",
        "* **`The true positive`** section displays emails and phone numbers which are in\n",
        "both your list of matches and the gold matches list.\n",
        "These are examples that your regular expressions correctly found.\n",
        "\n",
        "* **`The false positive`** section displays matches which your regular expressions extracted but which are not in the gold matches list.\n",
        "These are incorrect and show where your method may have been too\n",
        "broad/aggressive.\n",
        "\n",
        "* **`The false negative`** section displays emails and phone numbers which your code did not match, but which do exist in the html files.\n",
        "These are the matches your code missed.\n",
        "\n",
        "Your goal, then, is to reduce the number of false positives and false negatives\n",
        "to 0.\n",
        "At the bottom of the output you can see the total counts of `true positives`, `false positives`, and `false negatives`."
      ]
    },
    {
      "cell_type": "markdown",
      "metadata": {
        "id": "UN7JbRZSxzQd"
      },
      "source": [
        "Let's try evaluating our existing super-basic method using the method described above."
      ]
    },
    {
      "cell_type": "code",
      "execution_count": 19,
      "metadata": {
        "colab": {
          "base_uri": "https://localhost:8080/"
        },
        "id": "IHEaWwbiPhDS",
        "outputId": "71627922-68df-4791-d8c7-dbee7bec1def",
        "pycharm": {
          "name": "#%%\n"
        },
        "tags": [
          "exploration"
        ]
      },
      "outputs": [
        {
          "output_type": "stream",
          "name": "stdout",
          "text": [
            "Guesses (27): \n",
            "{('balaji', 'e', 'balaji@stanford.edu'),\n",
            " ('cheriton', 'e', 'cheriton@cs.stanford.edu'),\n",
            " ('dabo', 'e', 'dabo@cs.stanford.edu'),\n",
            " ('eroberts', 'e', 'eroberts@cs.stanford.edu'),\n",
            " ('fedkiw', 'e', 'fedkiw@cs.stanford.edu'),\n",
            " ('hanrahan', 'e', 'hanrahan@cs.stanford.edu'),\n",
            " ('jurafsky', 'e', 'jurafsky@stanford.edu'),\n",
            " ('kosecka', 'e', 'kosecka@cs.gmu.edu'),\n",
            " ('kunle', 'e', 'darlene@csl.stanford.edu'),\n",
            " ('kunle', 'e', 'kunle@ogun.stanford.edu'),\n",
            " ('latombe', 'e', 'asandra@cs.stanford.edu'),\n",
            " ('latombe', 'e', 'latombe@cs.stanford.edu'),\n",
            " ('latombe', 'e', 'liliana@cs.stanford.edu'),\n",
            " ('levoy', 'e', 'ada@graphics.stanford.edu'),\n",
            " ('levoy', 'e', 'melissa@graphics.stanford.edu'),\n",
            " ('manning', 'e', 'dbarros@cs.stanford.edu'),\n",
            " ('manning', 'e', 'manning@cs.stanford.edu'),\n",
            " ('nass', 'e', 'nass@stanford.edu'),\n",
            " ('nick', 'e', 'nick.parlante@cs.stanford.edu'),\n",
            " ('psyoung', 'e', 'patrick.young@stanford.edu'),\n",
            " ('rinard', 'e', 'rinard@lcs.mit.edu'),\n",
            " ('shoham', 'e', 'shoham@stanford.edu'),\n",
            " ('thm', 'e', 'pkrokel@stanford.edu'),\n",
            " ('widom', 'e', 'siroker@cs.stanford.edu'),\n",
            " ('widom', 'e', 'widom@cs.stanford.edu'),\n",
            " ('zelenski', 'e', 'zelenski@cs.stanford.edu'),\n",
            " ('zm', 'e', 'manna@cs.stanford.edu')}\n",
            "Gold (110): \n",
            "{('ashishg', 'e', 'ashishg@stanford.edu'),\n",
            " ('ashishg', 'e', 'rozm@stanford.edu'),\n",
            " ('ashishg', 'p', '650-723-1614'),\n",
            " ('ashishg', 'p', '650-723-4173'),\n",
            " ('ashishg', 'p', '650-814-1478'),\n",
            " ('balaji', 'e', 'balaji@stanford.edu'),\n",
            " ('bgirod', 'p', '650-723-4539'),\n",
            " ('bgirod', 'p', '650-724-3648'),\n",
            " ('bgirod', 'p', '650-724-6354'),\n",
            " ('cheriton', 'e', 'cheriton@cs.stanford.edu'),\n",
            " ('cheriton', 'e', 'uma@cs.stanford.edu'),\n",
            " ('cheriton', 'p', '650-723-1131'),\n",
            " ('cheriton', 'p', '650-725-3726'),\n",
            " ('dabo', 'e', 'dabo@cs.stanford.edu'),\n",
            " ('dabo', 'p', '650-725-3897'),\n",
            " ('dabo', 'p', '650-725-4671'),\n",
            " ('eroberts', 'e', 'eroberts@cs.stanford.edu'),\n",
            " ('eroberts', 'p', '650-723-3642'),\n",
            " ('eroberts', 'p', '650-723-6092'),\n",
            " ('fedkiw', 'e', 'fedkiw@cs.stanford.edu'),\n",
            " ('hager', 'e', 'hager@cs.jhu.edu'),\n",
            " ('hager', 'p', '410-516-5521'),\n",
            " ('hager', 'p', '410-516-5553'),\n",
            " ('hager', 'p', '410-516-8000'),\n",
            " ('hanrahan', 'e', 'hanrahan@cs.stanford.edu'),\n",
            " ('hanrahan', 'p', '650-723-0033'),\n",
            " ('hanrahan', 'p', '650-723-8530'),\n",
            " ('horowitz', 'p', '650-725-3707'),\n",
            " ('horowitz', 'p', '650-725-6949'),\n",
            " ('jurafsky', 'e', 'jurafsky@stanford.edu'),\n",
            " ('jurafsky', 'p', '650-723-5666'),\n",
            " ('kosecka', 'e', 'kosecka@cs.gmu.edu'),\n",
            " ('kosecka', 'p', '703-993-1710'),\n",
            " ('kosecka', 'p', '703-993-1876'),\n",
            " ('kunle', 'e', 'darlene@csl.stanford.edu'),\n",
            " ('kunle', 'e', 'kunle@ogun.stanford.edu'),\n",
            " ('kunle', 'p', '650-723-1430'),\n",
            " ('kunle', 'p', '650-725-3713'),\n",
            " ('kunle', 'p', '650-725-6949'),\n",
            " ('lam', 'e', 'lam@cs.stanford.edu'),\n",
            " ('lam', 'p', '650-725-3714'),\n",
            " ('lam', 'p', '650-725-6949'),\n",
            " ('latombe', 'e', 'asandra@cs.stanford.edu'),\n",
            " ('latombe', 'e', 'latombe@cs.stanford.edu'),\n",
            " ('latombe', 'e', 'liliana@cs.stanford.edu'),\n",
            " ('latombe', 'p', '650-721-6625'),\n",
            " ('latombe', 'p', '650-723-0350'),\n",
            " ('latombe', 'p', '650-723-4137'),\n",
            " ('latombe', 'p', '650-725-1449'),\n",
            " ('levoy', 'e', 'ada@graphics.stanford.edu'),\n",
            " ('levoy', 'e', 'melissa@graphics.stanford.edu'),\n",
            " ('levoy', 'p', '650-723-0033'),\n",
            " ('levoy', 'p', '650-724-6865'),\n",
            " ('levoy', 'p', '650-725-3724'),\n",
            " ('levoy', 'p', '650-725-4089'),\n",
            " ('manning', 'e', 'dbarros@cs.stanford.edu'),\n",
            " ('manning', 'e', 'manning@cs.stanford.edu'),\n",
            " ('manning', 'p', '650-723-7683'),\n",
            " ('manning', 'p', '650-725-1449'),\n",
            " ('manning', 'p', '650-725-3358'),\n",
            " ('nass', 'e', 'nass@stanford.edu'),\n",
            " ('nass', 'p', '650-723-5499'),\n",
            " ('nass', 'p', '650-725-2472'),\n",
            " ('nick', 'e', 'nick.parlante@cs.stanford.edu'),\n",
            " ('nick', 'p', '650-725-4727'),\n",
            " ('ok', 'p', '650-723-9753'),\n",
            " ('ok', 'p', '650-725-1449'),\n",
            " ('pal', 'e', 'pal@cs.stanford.edu'),\n",
            " ('pal', 'p', '650-725-9046'),\n",
            " ('psyoung', 'e', 'patrick.young@stanford.edu'),\n",
            " ('rajeev', 'p', '650-723-4377'),\n",
            " ('rajeev', 'p', '650-723-6045'),\n",
            " ('rajeev', 'p', '650-725-4671'),\n",
            " ('rinard', 'e', 'rinard@lcs.mit.edu'),\n",
            " ('rinard', 'p', '617-253-1221'),\n",
            " ('rinard', 'p', '617-258-6922'),\n",
            " ('serafim', 'e', 'serafim@cs.stanford.edu'),\n",
            " ('serafim', 'p', '650-723-3334'),\n",
            " ('serafim', 'p', '650-725-1449'),\n",
            " ('shoham', 'e', 'shoham@stanford.edu'),\n",
            " ('shoham', 'p', '650-723-3432'),\n",
            " ('shoham', 'p', '650-725-1449'),\n",
            " ('subh', 'e', 'subh@stanford.edu'),\n",
            " ('subh', 'e', 'uma@cs.stanford.edu'),\n",
            " ('subh', 'p', '650-724-1915'),\n",
            " ('subh', 'p', '650-725-3726'),\n",
            " ('subh', 'p', '650-725-6949'),\n",
            " ('thm', 'e', 'pkrokel@stanford.edu'),\n",
            " ('thm', 'p', '650-725-3383'),\n",
            " ('thm', 'p', '650-725-3636'),\n",
            " ('thm', 'p', '650-725-3938'),\n",
            " ('tim', 'p', '650-724-9147'),\n",
            " ('tim', 'p', '650-725-2340'),\n",
            " ('tim', 'p', '650-725-4671'),\n",
            " ('ullman', 'e', 'ullman@cs.stanford.edu'),\n",
            " ('ullman', 'p', '650-494-8016'),\n",
            " ('ullman', 'p', '650-725-2588'),\n",
            " ('ullman', 'p', '650-725-4802'),\n",
            " ('vladlen', 'e', 'vladlen@stanford.edu'),\n",
            " ('widom', 'e', 'siroker@cs.stanford.edu'),\n",
            " ('widom', 'e', 'widom@cs.stanford.edu'),\n",
            " ('widom', 'p', '650-723-0872'),\n",
            " ('widom', 'p', '650-723-7690'),\n",
            " ('widom', 'p', '650-725-2588'),\n",
            " ('zelenski', 'e', 'zelenski@cs.stanford.edu'),\n",
            " ('zelenski', 'p', '650-723-6092'),\n",
            " ('zelenski', 'p', '650-725-8596'),\n",
            " ('zm', 'e', 'manna@cs.stanford.edu'),\n",
            " ('zm', 'p', '650-723-4364'),\n",
            " ('zm', 'p', '650-725-4671')}\n",
            "True Positives (27): \n",
            "{('balaji', 'e', 'balaji@stanford.edu'),\n",
            " ('cheriton', 'e', 'cheriton@cs.stanford.edu'),\n",
            " ('dabo', 'e', 'dabo@cs.stanford.edu'),\n",
            " ('eroberts', 'e', 'eroberts@cs.stanford.edu'),\n",
            " ('fedkiw', 'e', 'fedkiw@cs.stanford.edu'),\n",
            " ('hanrahan', 'e', 'hanrahan@cs.stanford.edu'),\n",
            " ('jurafsky', 'e', 'jurafsky@stanford.edu'),\n",
            " ('kosecka', 'e', 'kosecka@cs.gmu.edu'),\n",
            " ('kunle', 'e', 'darlene@csl.stanford.edu'),\n",
            " ('kunle', 'e', 'kunle@ogun.stanford.edu'),\n",
            " ('latombe', 'e', 'asandra@cs.stanford.edu'),\n",
            " ('latombe', 'e', 'latombe@cs.stanford.edu'),\n",
            " ('latombe', 'e', 'liliana@cs.stanford.edu'),\n",
            " ('levoy', 'e', 'ada@graphics.stanford.edu'),\n",
            " ('levoy', 'e', 'melissa@graphics.stanford.edu'),\n",
            " ('manning', 'e', 'dbarros@cs.stanford.edu'),\n",
            " ('manning', 'e', 'manning@cs.stanford.edu'),\n",
            " ('nass', 'e', 'nass@stanford.edu'),\n",
            " ('nick', 'e', 'nick.parlante@cs.stanford.edu'),\n",
            " ('psyoung', 'e', 'patrick.young@stanford.edu'),\n",
            " ('rinard', 'e', 'rinard@lcs.mit.edu'),\n",
            " ('shoham', 'e', 'shoham@stanford.edu'),\n",
            " ('thm', 'e', 'pkrokel@stanford.edu'),\n",
            " ('widom', 'e', 'siroker@cs.stanford.edu'),\n",
            " ('widom', 'e', 'widom@cs.stanford.edu'),\n",
            " ('zelenski', 'e', 'zelenski@cs.stanford.edu'),\n",
            " ('zm', 'e', 'manna@cs.stanford.edu')}\n",
            "False Positives (0): \n",
            "set()\n",
            "False Negatives (83): \n",
            "{('ashishg', 'e', 'ashishg@stanford.edu'),\n",
            " ('ashishg', 'e', 'rozm@stanford.edu'),\n",
            " ('ashishg', 'p', '650-723-1614'),\n",
            " ('ashishg', 'p', '650-723-4173'),\n",
            " ('ashishg', 'p', '650-814-1478'),\n",
            " ('bgirod', 'p', '650-723-4539'),\n",
            " ('bgirod', 'p', '650-724-3648'),\n",
            " ('bgirod', 'p', '650-724-6354'),\n",
            " ('cheriton', 'e', 'uma@cs.stanford.edu'),\n",
            " ('cheriton', 'p', '650-723-1131'),\n",
            " ('cheriton', 'p', '650-725-3726'),\n",
            " ('dabo', 'p', '650-725-3897'),\n",
            " ('dabo', 'p', '650-725-4671'),\n",
            " ('eroberts', 'p', '650-723-3642'),\n",
            " ('eroberts', 'p', '650-723-6092'),\n",
            " ('hager', 'e', 'hager@cs.jhu.edu'),\n",
            " ('hager', 'p', '410-516-5521'),\n",
            " ('hager', 'p', '410-516-5553'),\n",
            " ('hager', 'p', '410-516-8000'),\n",
            " ('hanrahan', 'p', '650-723-0033'),\n",
            " ('hanrahan', 'p', '650-723-8530'),\n",
            " ('horowitz', 'p', '650-725-3707'),\n",
            " ('horowitz', 'p', '650-725-6949'),\n",
            " ('jurafsky', 'p', '650-723-5666'),\n",
            " ('kosecka', 'p', '703-993-1710'),\n",
            " ('kosecka', 'p', '703-993-1876'),\n",
            " ('kunle', 'p', '650-723-1430'),\n",
            " ('kunle', 'p', '650-725-3713'),\n",
            " ('kunle', 'p', '650-725-6949'),\n",
            " ('lam', 'e', 'lam@cs.stanford.edu'),\n",
            " ('lam', 'p', '650-725-3714'),\n",
            " ('lam', 'p', '650-725-6949'),\n",
            " ('latombe', 'p', '650-721-6625'),\n",
            " ('latombe', 'p', '650-723-0350'),\n",
            " ('latombe', 'p', '650-723-4137'),\n",
            " ('latombe', 'p', '650-725-1449'),\n",
            " ('levoy', 'p', '650-723-0033'),\n",
            " ('levoy', 'p', '650-724-6865'),\n",
            " ('levoy', 'p', '650-725-3724'),\n",
            " ('levoy', 'p', '650-725-4089'),\n",
            " ('manning', 'p', '650-723-7683'),\n",
            " ('manning', 'p', '650-725-1449'),\n",
            " ('manning', 'p', '650-725-3358'),\n",
            " ('nass', 'p', '650-723-5499'),\n",
            " ('nass', 'p', '650-725-2472'),\n",
            " ('nick', 'p', '650-725-4727'),\n",
            " ('ok', 'p', '650-723-9753'),\n",
            " ('ok', 'p', '650-725-1449'),\n",
            " ('pal', 'e', 'pal@cs.stanford.edu'),\n",
            " ('pal', 'p', '650-725-9046'),\n",
            " ('rajeev', 'p', '650-723-4377'),\n",
            " ('rajeev', 'p', '650-723-6045'),\n",
            " ('rajeev', 'p', '650-725-4671'),\n",
            " ('rinard', 'p', '617-253-1221'),\n",
            " ('rinard', 'p', '617-258-6922'),\n",
            " ('serafim', 'e', 'serafim@cs.stanford.edu'),\n",
            " ('serafim', 'p', '650-723-3334'),\n",
            " ('serafim', 'p', '650-725-1449'),\n",
            " ('shoham', 'p', '650-723-3432'),\n",
            " ('shoham', 'p', '650-725-1449'),\n",
            " ('subh', 'e', 'subh@stanford.edu'),\n",
            " ('subh', 'e', 'uma@cs.stanford.edu'),\n",
            " ('subh', 'p', '650-724-1915'),\n",
            " ('subh', 'p', '650-725-3726'),\n",
            " ('subh', 'p', '650-725-6949'),\n",
            " ('thm', 'p', '650-725-3383'),\n",
            " ('thm', 'p', '650-725-3636'),\n",
            " ('thm', 'p', '650-725-3938'),\n",
            " ('tim', 'p', '650-724-9147'),\n",
            " ('tim', 'p', '650-725-2340'),\n",
            " ('tim', 'p', '650-725-4671'),\n",
            " ('ullman', 'e', 'ullman@cs.stanford.edu'),\n",
            " ('ullman', 'p', '650-494-8016'),\n",
            " ('ullman', 'p', '650-725-2588'),\n",
            " ('ullman', 'p', '650-725-4802'),\n",
            " ('vladlen', 'e', 'vladlen@stanford.edu'),\n",
            " ('widom', 'p', '650-723-0872'),\n",
            " ('widom', 'p', '650-723-7690'),\n",
            " ('widom', 'p', '650-725-2588'),\n",
            " ('zelenski', 'p', '650-723-6092'),\n",
            " ('zelenski', 'p', '650-725-8596'),\n",
            " ('zm', 'p', '650-723-4364'),\n",
            " ('zm', 'p', '650-725-4671')}\n",
            "Summary: tp=27, fp=0, fn=83\n"
          ]
        }
      ],
      "source": [
        "guess_list = process_dir('data/dev', example_process_file)\n",
        "gold_list = get_gold('data/devGOLD')\n",
        "score(guess_list, gold_list)"
      ]
    },
    {
      "cell_type": "markdown",
      "metadata": {
        "id": "S045DjHQPhDT",
        "pycharm": {
          "name": "#%% md\n"
        }
      },
      "source": [
        "Looks reasonable! It appears that our basic method produced 27 matches,\n",
        "while the gold set contains 110 matches.\n",
        "There were:\n",
        "* 27 `true positives`, which are matches that we found that were in the gold set;\n",
        "* 0 `false positives`, which are matches that we found that were NOT in the gold set;\n",
        "* 83 `false negatives`, which are matches in the gold set that we did NOT find.\n",
        "\n",
        "This seems like a pretty good start, but there are still 83 addresses that our\n",
        "approach didn't manage to catch.\n",
        "Figuring out how to extract these addresses without accidentally matching any non-address text is up to you!"
      ]
    },
    {
      "cell_type": "markdown",
      "metadata": {
        "id": "RAkq1RNvdMb4"
      },
      "source": [
        "\n",
        "### Part 3.3. Point Distribution"
      ]
    },
    {
      "cell_type": "markdown",
      "metadata": {
        "id": "VMPtY6q4zbwC"
      },
      "source": [
        "Your grade will consist of three parts, totalling 25 points.\n",
        "\n",
        "* The **first**, worth 16 points, scores how well your implementation does on the\n",
        "development set.\n",
        "For these examples you're given the correct answers, so you should aim to get 100% of them correct!\n",
        "\n",
        "* The **second** part of your grade, worths 8 points, will be based on how well your\n",
        "regular expressions find emails and phone numbers in a different set of\n",
        "examples, the `test set`.\n",
        "This test set is hidden and only the teaching staff knows what is in it!\n",
        "Because you don't know exactly what trickery goes on in this test set, you should be creative in thinking of different ways of writing (and hiding) emails and phone numbers.\n",
        "\n",
        "* The **third** part is a brief section worth 1 point designed to get you thinking about ethical issues surrounding spam emails.\n",
        "\n",
        "You are not expected to perform perfectly on the test set as you don't know\n",
        "what is in it, or have the correct answers (just like in real life).\n",
        "As long as you manage to achieve some reasonable performance (compared to a benchmark that we provide), you will get full points!\n",
        "The benchmark is set at **65** test errors or fewer.\n",
        "Normally, we would hide your test set performance so you can't tune your methods\n",
        "to maximize test set performance (this is good experimental procedure).\n",
        "However, in the interests of transparency and making your life easier, we will show you your test score and number of test errors on `Gradescope` so you can get an idea of how close you are to the benchmark and full points.\n",
        "\n",
        "You are free to submit as many times as you'd like on `Gradescope` until you hit\n",
        "the benchmark.\n",
        "If you beat the benchmark, you can also submit your best-performing solution to the `Gradescope` leaderboard to see how you stack up against your classmates, although you won't get any extra points."
      ]
    },
    {
      "cell_type": "markdown",
      "metadata": {
        "id": "jJd8Upq0zX3m"
      },
      "source": [
        "Here are the equations we use to calculate the scores for the two parts, where\n",
        "`e` is the total number of errors (`false negatives` and `false positives`) for\n",
        "each part:\n",
        "\n",
        "__Dev:__\n",
        "\n",
        "```\n",
        "  if e < 10 then score(e) = 16 - e\n",
        "  else if e >= 10 then score(e) = 6\n",
        "```\n",
        "\n",
        "__Test:__\n",
        "\n",
        "```\n",
        "  if e <= 65      then score(e) = 8\n",
        "  else if 65 < e  then score(e) = 8 - (e - 65) * 0.2\n",
        "```\n",
        "\n",
        "__Note:__ This sort of two-stage evaluation (a known development set and a\n",
        "hidden test set) is a very commonly used approach in machine learning!\n",
        "Evaluating on a development set where we have the \"right\" answers lets us\n",
        "measure our performance precisely and improve our approach, while a test set\n",
        "that is hidden from us until later allows us to see how we perform\n",
        "\"out in the wild\", on examples that we might not have been able to tailor\n",
        "our methods to."
      ]
    },
    {
      "cell_type": "markdown",
      "metadata": {
        "id": "eNYFvxn2e9dj"
      },
      "source": [
        "<a id=\"cases_to_consider\"></a>\n",
        "## Part 4. Cases to Consider"
      ]
    },
    {
      "cell_type": "markdown",
      "metadata": {
        "id": "icsZvzTb1Kvj"
      },
      "source": [
        "As you implement your regular expressions and analyze the `HTML` files that your approach isn't getting quite right, you will develop an understanding of which cases to consider.\n",
        "Your development workflow will be as follows:\n",
        "* You will start with a simple regular expression.\n",
        "* You will evaluate your simple approach against the gold matches.\n",
        "* You will find the files for which your approach is failing and try to identify how you can improve your regular expression to do better.\n",
        "* You will go back to evaluation step and repeat until you are satisfied.\n",
        "\n",
        "This is how a real life `NLP` or `ML` practioner would approach an unknown task!\n",
        "For our assignment, to make things a little more concrete, we are providing you with some examples to illustrate exactly what your implementation should be able to do if it's working correctly.\n",
        "The list we provide here is not comprehensive, so you may find out about cases that we haven't covered here."
      ]
    },
    {
      "cell_type": "markdown",
      "metadata": {
        "id": "C4a7HgdnPhDK"
      },
      "source": [
        "### Part 4.1. Extracting Phone Numbers\n",
        "\n",
        "Your program should be able to process text that looks like the examples shown\n",
        "on the left, and extract the phone number on the right. Note that we want\n",
        "the result in a standardized form.\n",
        "\n",
        "```\n",
        "# Various formats\n",
        "Phone:  (650) 723-0293 =>  650-723-0293\n",
        "Tel (+1): 650-723-0293 =>  650-723-0293\n",
        "```\n",
        "Here are some notes:\n",
        "\n",
        "* You can assume we are only working with North American phone numbers,\n",
        "so all numbers will have a 3 digit area code, followed by 3 digits, followed by 4 digits, with some separator between the groups of digits (i.e., a sequence of 10 digits will not be counted as a phone number).\n",
        "\n",
        "* Your solution may also extract fax numbers, which look exactly like\n",
        "phone numbers.\n",
        "This is fine, you are not expected to distinguish between the two."
      ]
    },
    {
      "cell_type": "markdown",
      "metadata": {
        "id": "Sdj1BS9p3jqD"
      },
      "source": [
        "### Part 4.2. Extracting Email Addresses\n",
        "\n",
        "Similarly to the phone numbers, we are also interested in processing text\n",
        "containing (possibly obfuscated) email addresses and returning the corresponding\n",
        "email addresses in a standard form.\n",
        "\n",
        "```\n",
        "# Ordinary email addresses\n",
        "manning@cs.stanford.edu => manning@cs.stanford.edu\n",
        "\n",
        "# Hidden email addresses\n",
        "manning(at)cs.stanford.edu => manning@cs.stanford.edu\n",
        "manning at csli dot stanford dot edu => manning@csli.stanford.edu\n",
        "```\n",
        "Below are some notes/questions to guide you. Make sure to account for different cases (lowercase, uppercase, mixed) for each of the following points!\n",
        "* Notice the different ways people write the `@` sign.\n",
        "  Can you identify a few?\n",
        "* What about the alternative ways of writing `.` in emails?\n",
        "  Make sure to account for different cases (lowercase, uppercase, mixed)!\n",
        "* What are some popular top level domain names?\n",
        "  To get full credit on the assignment, it is sufficient to consider `com`, `gov`, `org`, `edu`.\n",
        "  Remember to account for cases!\n",
        "* Are there other ways people write their emails in plain english?\n",
        "  What are some of the common ones?"
      ]
    },
    {
      "cell_type": "markdown",
      "metadata": {
        "id": "pnr-Lsqt3hH6"
      },
      "source": [
        "### Part 4.3. Cases to not Worry About\n",
        "\n",
        "Although you should aim to make your regexes as powerful and general-purpose as\n",
        "you possibly can, there are some cases that are difficult or impossible to\n",
        "handle with regexes and which we don't expect you to be able to deal with.\n",
        "\n",
        "These include:\n",
        "\n",
        "* Anything involving images or other non-text ways of displaying emails or phone\n",
        "numbers.\n",
        "* Examples that require parsing names into parts, like:.\n",
        "\n",
        "```\n",
        "\"first name\"@cs.stanford.edu\n",
        "```\n",
        "\n",
        "* Particularly clever/difficult examples that don't contain much or any\n",
        "part of the actual email address. For example,\n",
        "\n",
        "```\n",
        "To send me email, try the simplest address that makes sense.\n",
        "```"
      ]
    },
    {
      "cell_type": "markdown",
      "metadata": {
        "id": "hmkYu8h0fEXY"
      },
      "source": [
        "<a id=\"your_approach\"></a>\n",
        "## Part 5. Your Approach"
      ]
    },
    {
      "cell_type": "markdown",
      "metadata": {
        "id": "sn5O0_VvWp4Z"
      },
      "source": [
        "The example functions we shared so far only allows us to retrieve a subset of the present emails and none of the phones in our dataset.\n",
        "In this section, you will implement your version of the example functions, and test your implementations\n",
        "Your task is to modify the functions **`find_emails()`** and **`find_phone_numbers()`** given below.\n",
        "We provide you with a placeholder code, but you will modify them.\n",
        "Here we share some notes/tips that may be helpful in your implementations:\n",
        "* We recommend starting with the phone numbers as the number of cases to be considered are significantly smaller.\n",
        "* You can use separate regular expressions for separate cases, and combine your results into a list before returning.\n",
        "This will make writing regular expressions easier.\n",
        "* You may get long regular expressions as you try to cover each email case.\n",
        "Don't get discouraged and make use of `|`.\n",
        "* Although they are mostly the same, different regular expression engines differ in subtle ways, especially true for the way escape characters etc. are interpreted.\n",
        "If you are using an external website to test your `RegExes`, be aware that your `RegExes` may not work out of the box when you move them over to `Python` due to this distinction."
      ]
    },
    {
      "cell_type": "code",
      "source": [
        "# Changing the HTML file\n",
        "file_path = \"data/dev/fedkiw.html\"\n",
        "with open(\"data/dev/fedkiw.html\", 'r', encoding='ISO-8859-1') as file:\n",
        "    content = file.read()\n",
        "    print(full_text)"
      ],
      "metadata": {
        "colab": {
          "base_uri": "https://localhost:8080/"
        },
        "id": "JS11D9OsccL-",
        "outputId": "b7f01c6e-474f-47ea-b6b0-cd067f02ebfc"
      },
      "execution_count": 20,
      "outputs": [
        {
          "output_type": "stream",
          "name": "stdout",
          "text": [
            "<html>\n",
            "\n",
            "<head>\n",
            "<meta http-equiv=\"Content-Type\" content=\"text/html; charset=iso-8859-1\">\n",
            "<meta name=\"GENERATOR\" content=\"Microsoft FrontPage 4.0\">\n",
            "<base href=\"http://crypto.stanford.edu/~dabo/index.html\">\n",
            "<title>Dan Boneh</title>\n",
            "</head>\n",
            "\n",
            "<body background=\"background.gif\" text=\"#000000\" link=\"#00006F\" vlink=\"#003F00\"\n",
            "alink=\"#7F0000\">\n",
            "\n",
            "<div align=\"left\">\n",
            " \n",
            "\n",
            "\n",
            "<table border=\"0\" cellspacing=\"0\" cellpadding=\"15\">\n",
            "\n",
            "<tr> \n",
            "   <td></td>\n",
            "\n",
            "\n",
            "\n",
            "<td>\n",
            "<a href=\"pubs.html\" \n",
            "\tonMouseOver=\"pubs.src='icons/pubsON.gif';\"\n",
            "\tonMouseOut=\"pubs.src='icons/pubs.gif';\">\n",
            "\t<img border=\"0\" src=\"icons/pubs.gif\" alt=\"Publications\" name=\"pubs\"></a> <BR>\n",
            "<a href=\"#courses\"\n",
            "\tonMouseOver=\"courses.src='icons/coursesON.gif';\"\n",
            "\tonMouseOut=\"courses.src='icons/courses.gif';\">\n",
            "\t<img border=\"0\" src=\"icons/courses.gif\" alt=\"Courses\" name=\"courses\"></a> <BR>\n",
            "<a href=\"http://crypto.stanford.edu\" \n",
            "\tonMouseOver=\"students.src='icons/studentsON.gif';\"\n",
            "\tonMouseOut=\"students.src='icons/students.gif';\">\n",
            "\t<img border=\"0\" src=\"icons/students.gif\" alt=\"Students\" name=\"students\"></a>\n",
            "</td>\n",
            "\n",
            "\n",
            "\n",
            "<tr>\n",
            "   <td bgcolor=\"#000080\">&nbsp;</td>\n",
            "   <td>\n",
            "\n",
            "<h1 align=\"left\"><font face=\"Comic Sans MS\" color=\"#000000\">\n",
            "Dan Boneh</font></h1>\n",
            "\n",
            "<p align=\"left\">&nbsp;&nbsp;&nbsp;&nbsp;&nbsp; \n",
            "<img src=\"icons/devil01.gif\" width=\"62\" height=\"61\"> </p>\n",
            "\n",
            "<address align=\"left\">\n",
            "  dabo@cs.stanford.edu \n",
            "</address>\n",
            "\n",
            "<p align=\"left\">Professor of \n",
            "<a href=\"http://cs.stanford.edu\">Computer Science</a>\n",
            "and <a href=\"http://ee.stanford.edu\">Electrical Engineering</a>, <a\n",
            "href=\"http://www.stanford.edu\">Stanford University</a>. </p>\n",
            "\n",
            "<h2><font face=\"Comic Sans MS\">Conferences</font></h2>\n",
            "<p>Some conferences and journals I am currently involved with.\n",
            "<ul>\n",
            "  <li><a href=\"http://www.usenix.org/events/sec08/index.html\">Usenix Security 2008</a>\n",
            "  <li><a href=\"http://www.usenix.org/events/upsec08/cfp/\">Usenix Usable Security '08</a>\n",
            "  <li><a href=\"http://www.iacr.org/conferences/crypto2009/\">Crypto 2009</a>\n",
            "  <li>General chair <a href=http://crypto.stanford.edu/tcc09>TCC 2009</a></li>\n",
            "  <li>Editor of <a href=\"http://link.springer.de/link/service/journals/00145/\">Journal of \n",
            "     Cryptology</a>.</li>\n",
            "<br>\n",
            "</ul>\n",
            "\n",
            "<hr>\n",
            "\n",
            "<h4><font face=\"Comic Sans MS\">Address</font></h4>\n",
            "\n",
            "<ul>\n",
            "  <li>Mail: Computer Science Dept., Gates 475, Stanford, CA, 94305-9045 </li>\n",
            "  <li>Office: CS Building, Gates 475. </li>\n",
            "  <li><a href=http://forum.stanford.edu/visitors/directions/gates.php>Directions</a> to the Gates building.\n",
            "</ul>\n",
            "\n",
            "<h4><font face=\"Comic Sans MS\">Telephone</font> <img src=\"icons/phone.gif\"\n",
            "align=\"absmiddle\" hspace=\"10\" width=\"34\" height=\"29\"> </h4>\n",
            "\n",
            "<ul>\n",
            "  <li>Office: (650) 725-3897 </li>\n",
            "  <li>Fax: (650) 725-4671 </li>\n",
            "</ul>\n",
            "\n",
            "<hr>\n",
            "\n",
            "<h2><font face=\"Comic Sans MS\">Research Interests</font></h2>\n",
            "\n",
            "<p>My main research focus is on applied cryptography, and network security. </p>\n",
            "\n",
            "<p>Here is a list of my <strong><a href=\"pubs.html\">publications</a></strong> and current <a\n",
            "href=\"http://crypto.stanford.edu/\">students and research group</a>.</p>\n",
            "\n",
            "<p>Take a look at our <a href=\"http://crypto.stanford.edu/seclab/\">Security Lab</a>. We\n",
            "are also running a biweekly <a href=\"http://crypto.Stanford.EDU/seclab/sem.html\">security\n",
            "seminar</a>.</p>\n",
            "\n",
            "<h3><font face=\"Comic Sans MS\"><a name=\"courses\"></a>Courses</font></h3>\n",
            "\n",
            "<ul>\n",
            "  <li><font face=\"Arial\"><a href=\"cs55N\"><b>CS55N</b></a>\n",
            "    (freshmen seminar)</font>:\n",
            "    Ten ideas in computer security and cryptography\n",
            "    <ul>\n",
            "      <li><a href=\"http://crypto.stanford.edu/~dabo/courses/cs55N_fall05/\">Fall\n",
            "        05</a>.</li>\n",
            "      <li><a href=\"http://crypto.stanford.edu/~dabo/courses/cs55N_fall03/\">Fall\n",
            "        03</a>.</li>\n",
            "      <li><a href=\"http://crypto.stanford.edu/~dabo/courses/cs99M_fall99/\">Fall\n",
            "        99</a>.</li>\n",
            "    </ul>\n",
            "    <p>&nbsp;</li>\n",
            "\n",
            "  <li><a href=\"http://crypto.stanford.edu/cs155\"><font face=\"Arial\"><b>CS155</b></font></a>: Computer and\n",
            "    network security\n",
            "    <ul>\n",
            "      <li><a href=\"http://crypto.stanford.edu/cs155\">Spring 08.</a></li>\n",
            "      <li><a href=\"http://crypto.stanford.edu/cs155old/cs155-spring07\">Spring 07.</a></li>\n",
            "      <li><a href=\"http://crypto.stanford.edu/cs155old/cs155-spring06\">Spring 06.</a></li>\n",
            "      <li><a href=\"http://crypto.stanford.edu/cs155old/cs155-spring05\">Spring 05.</a></li>\n",
            "      <li><a href=\"http://crypto.stanford.edu/cs155old/cs155-spring04\">Spring 04.</a></li>\n",
            "      <li><a href=\"http://crypto.stanford.edu/cs155old/cs155-spring03\">Spring 03.</a></li>\n",
            "      <li><a href=\"http://crypto.stanford.edu/cs155old/cs155-spring02\">Spring 02.</a></li>\n",
            "    </ul>\n",
            "    <p>&nbsp;</li>\n",
            "\n",
            "  <li><a href=\"cs255\"><font face=\"Arial\"><b>CS255</b></font></a>: Introduction to cryptography.&nbsp;\n",
            "    <ul>\n",
            "      <li><a href=\"courses/cs255_winter09/\"> Winter 09</a>.</li>\n",
            "      <li><a href=\"courses/cs255_winter08/\"> Winter 08</a>.</li>\n",
            "      <li><a href=\"courses/cs255_winter07/\"> Winter 07</a>.</li>\n",
            "      <li><a href=\"courses/cs255_winter06/\"> Winter 06</a>.</li>\n",
            "      <li><a href=\"courses/cs255_winter05/\"> Winter 05</a>.</li>\n",
            "      <li><a href=\"courses/cs255_winter04/\"> Winter 04</a>.</li>\n",
            "      <li><a href=\"courses/cs255_winter03/\"> Winter 03</a>.</li>\n",
            "      <li><a href=\"courses/cs255_winter02/\"> Winter 02</a>.</li>\n",
            "      <li><a href=\"courses/cs255_winter01/\"> Winter 01</a>.</li>\n",
            "      <li><a href=\"courses/cs255_winter00/\"> Winter 00</a>.</li>\n",
            "      <li><a href=\"courses/cs255_winter99/\"> Winter 99</a>.</li>\n",
            "      <li><a href=\"courses/cs255_winter98/\">Winter 98</a>.</li>\n",
            "    </ul>\n",
            "    <p>&nbsp; </li>\n",
            "  <li><a href=\"cs355\"><font face=\"Arial\"><b>CS355</b></font></a>: Topics in cryptography.\n",
            "    <ul>\n",
            "      <li><a href=\"courses/cs355_fall07/\">Fall 07</a>.</li>\n",
            "      <li><a href=\"courses/cs355_fall04/\">Fall 04</a>.</li>\n",
            "      <li><a href=\"courses/cs355_fall02/\">Fall 02</a>.</li>\n",
            "      <li><a href=\"courses/cs355_spring00/\">Spring 00</a>.</li>\n",
            "      <li><a href=\"courses/cs355_fall98/\">Fall 98</a>.</li>\n",
            "    </ul>\n",
            "    <p>&nbsp;\n",
            " </li>\n",
            "  <li><a href=\"http://www.stanford.edu/class/cs161/\"><font face=\"Arial\"><b>CS161</b></font></a>: <font size=\"3\">Design\n",
            "    and Analysis of Algorithms</font>\n",
            "    <ul>\n",
            "      <li><a href=\"courses/cs161_fall01/\">Fall 01</a>.</li>\n",
            "      <li><a href=\"courses/cs161_spring01/\">Spring 01</a>.</li>\n",
            "    </ul>\n",
            "    <p>&nbsp;\n",
            " </li>\n",
            "</ul>\n",
            "\n",
            "<hr>\n",
            "\n",
            "<h3><a href=\"links.html\"><font face=\"Comic Sans MS\">Links</font></a></h3>\n",
            "\n",
            "<p>Some  <a href=\"links.html\">links</a> related to cryptography\n",
            "and life in general.  </p>\n",
            "\n",
            "\n",
            "      </td>\n",
            "  </table>\n",
            "<hr>\n",
            "<address>\n",
            "  <a href=\"http://crypto.stanford.edu\">Applied crypto group</a>, \n",
            "  <a href=\"http://www.cs.stanford.edu/\">CS Department</a>, \n",
            "  <a href=\"http://www.stanford.edu\">Stanford University</a> \n",
            "</address>\n",
            "</body>\n",
            "</html>\n",
            "\n"
          ]
        }
      ]
    },
    {
      "cell_type": "code",
      "execution_count": 21,
      "metadata": {
        "tags": [
          "todo"
        ],
        "outputId": "5f440cf1-a54f-4c7f-b7d5-ceb5b36ca280",
        "colab": {
          "base_uri": "https://localhost:8080/"
        },
        "id": "qVHnzqRieO75"
      },
      "outputs": [
        {
          "output_type": "stream",
          "name": "stdout",
          "text": [
            "phone numbers: []\n"
          ]
        }
      ],
      "source": [
        "# TODO: Implement your approach here!\n",
        "def find_phone_numbers(full_text: str) -> List[str]:\n",
        "    \"\"\"\n",
        "    Takes in a line from an html document as a string and finds the phone\n",
        "    numbers in it. Returns the found numbers in a list of strings. The returned\n",
        "    numbers must follow the canonical format, where # represent digits:\n",
        "\n",
        "              '###-###-#####'\n",
        "\n",
        "    NOTE: DO NOT CHANGE THIS INTERFACE, as it will be called directly by\n",
        "    the submit script.\n",
        "\n",
        "    full_text (str): Full text of the html file read.\n",
        "    \"\"\"\n",
        "    # CODE START\n",
        "    pattern = r'\\d{3}[-.\\s]\\d{3}[-.\\s]\\d{4}'\n",
        "\n",
        "    # Find and format phone numbers\n",
        "    found_numbers = re.findall(pattern, full_text)\n",
        "    formatted_numbers = [f\"{match[0]}-{match[1]}-{match[2]}\" for match in found_numbers]\n",
        "\n",
        "    return formatted_numbers\n",
        "\n",
        "matched_numbers = find_phone_numbers(content)\n",
        "print(\"phone numbers:\", matched_numbers)\n",
        "    # CODE END"
      ]
    },
    {
      "cell_type": "code",
      "source": [
        "if re.search(r'\\d{3}[-.\\s]\\d{3}[-.\\s]\\d{4}', content):\n",
        "    print(\"A real phone number was found!\")\n",
        "else:\n",
        "    print(\"No real phone numbers in the file.\")"
      ],
      "metadata": {
        "colab": {
          "base_uri": "https://localhost:8080/"
        },
        "id": "yL-Sg4Lx5DJX",
        "outputId": "f2e26154-55cc-4384-ecb2-ce4201eccace"
      },
      "execution_count": 22,
      "outputs": [
        {
          "output_type": "stream",
          "name": "stdout",
          "text": [
            "No real phone numbers in the file.\n"
          ]
        }
      ]
    },
    {
      "cell_type": "code",
      "source": [
        "pattern = r'\\(\\d{3}\\)\\sxxx-xxxx'  # Matches (650) xxx-xxxx\n",
        "masked_numbers = re.findall(pattern, content)\n",
        "print(masked_numbers)"
      ],
      "metadata": {
        "colab": {
          "base_uri": "https://localhost:8080/"
        },
        "id": "DRPBqtqv5Mue",
        "outputId": "38aa3798-68ef-47b8-eb45-29f9b14bd66b"
      },
      "execution_count": 23,
      "outputs": [
        {
          "output_type": "stream",
          "name": "stdout",
          "text": [
            "['(650) xxx-xxxx']\n"
          ]
        }
      ]
    },
    {
      "cell_type": "code",
      "execution_count": 24,
      "metadata": {
        "id": "RZd3iDvaWpZi",
        "tags": [
          "todo"
        ],
        "colab": {
          "base_uri": "https://localhost:8080/"
        },
        "outputId": "d100aaeb-55a0-4d0d-aa4b-ed55a99d6703"
      },
      "outputs": [
        {
          "output_type": "stream",
          "name": "stdout",
          "text": [
            "emails: ['fedkiw@cs.stanford.edu', 'fedkiw@cs.stanford.edu']\n"
          ]
        }
      ],
      "source": [
        "# TODO: Implement your approach here!\n",
        "def find_emails(full_text: str) -> List[str]:\n",
        "    \"\"\"\n",
        "    Takes in a line from an html document as a string and finds the emails in\n",
        "    it. Returns the found emails in a list of strings. The returned email\n",
        "    must follow the canonical format:\n",
        "\n",
        "              'someone@something'\n",
        "\n",
        "    NOTE: DO NOT CHANGE THIS INTERFACE, as it will be called directly by\n",
        "    the submit script.\n",
        "\n",
        "    full_text (str): Full text of the html file read.\n",
        "    \"\"\"\n",
        "    # CODE START\n",
        "    pattern = r'\\b[A-Za-z0-9._%+-]+@[A-Za-z0-9.-]+\\.[A-Za-z]{2,}\\b'\n",
        "    matched_emails = re.findall(pattern, full_text)\n",
        "    return matched_emails\n",
        "\n",
        "matched_emails = find_emails(content)\n",
        "print(\"emails:\", matched_emails)\n",
        "    # CODE END"
      ]
    },
    {
      "cell_type": "code",
      "execution_count": 25,
      "metadata": {
        "id": "TJkypAsxPhDQ",
        "pycharm": {
          "name": "#%%\n"
        },
        "tags": [
          "essential"
        ]
      },
      "outputs": [],
      "source": [
        "# DO NOT CHANGE\n",
        "def process_file(filename: str, data_directory: str):\n",
        "    \"\"\"\n",
        "    Function we wrote to call the functions listed below on each line of a file\n",
        "    with the given filename. It returns a list of 3-tuples representinting the\n",
        "    found matches in the specified evaluation format.\n",
        "\n",
        "    * find_emails()\n",
        "    * find_phone_numbers functions\n",
        "\n",
        "    \"\"\"\n",
        "    # DO NOT CHANGE\n",
        "    filename_no_ext, ext = filename.split('.')\n",
        "    absolute_file_path = os.path.join(data_directory, filename)\n",
        "    res = []\n",
        "    with open(absolute_file_path, 'r', encoding='ISO-8859-1') as file:\n",
        "        # Read the full text\n",
        "        full_text = file.read()\n",
        "\n",
        "        # Call find_emails\n",
        "        emails = [(filename_no_ext, 'e', e) for e in find_emails(full_text)]\n",
        "\n",
        "        # Call find_phone_numbers\n",
        "        phone_numbers = [(filename_no_ext, 'p', p) for p in find_phone_numbers(full_text)]\n",
        "\n",
        "        # Add the newly extracted emails and phone numbers to our list\n",
        "        res += emails + phone_numbers\n",
        "\n",
        "    return res"
      ]
    },
    {
      "cell_type": "markdown",
      "metadata": {
        "id": "ZI3zVbFp_AlK"
      },
      "source": [
        "Similar to the example functions, you can run your functions on all of the dev set and compare your m=found matches with the gold set matches."
      ]
    },
    {
      "cell_type": "code",
      "execution_count": 26,
      "metadata": {
        "colab": {
          "base_uri": "https://localhost:8080/"
        },
        "id": "WrHaWO0gPhDT",
        "outputId": "b805d45d-d0de-4ca4-c320-12f642711f15",
        "pycharm": {
          "name": "#%%\n"
        },
        "tags": [
          "exploration"
        ]
      },
      "outputs": [
        {
          "output_type": "stream",
          "name": "stdout",
          "text": [
            "Guesses (39): \n",
            "{('balaji', 'e', 'balaji@stanford.edu'),\n",
            " ('cheriton', 'e', 'cheriton@cs.stanford.edu'),\n",
            " ('cheriton', 'e', 'uma@cs.stanford.edu'),\n",
            " ('cheriton', 'p', '6-5-0'),\n",
            " ('dabo', 'e', 'dabo@cs.stanford.edu'),\n",
            " ('eroberts', 'e', 'eroberts@cs.stanford.edu'),\n",
            " ('eroberts', 'p', '6-5-0'),\n",
            " ('fedkiw', 'e', 'fedkiw@cs.stanford.edu'),\n",
            " ('hager', 'p', '4-1-0'),\n",
            " ('hanrahan', 'e', 'hanrahan@cs.stanford.edu'),\n",
            " ('jurafsky', 'e', 'jurafsky@stanford.edu'),\n",
            " ('jurafsky', 'p', '6-5-0'),\n",
            " ('kosecka', 'e', 'kosecka@cs.gmu.edu'),\n",
            " ('kunle', 'e', 'darlene@csl.stanford.edu'),\n",
            " ('kunle', 'e', 'kunle@ogun.stanford.edu'),\n",
            " ('latombe', 'e', 'asandra@cs.stanford.edu'),\n",
            " ('latombe', 'e', 'latombe@cs.stanford.edu'),\n",
            " ('latombe', 'e', 'liliana@cs.stanford.edu'),\n",
            " ('levoy', 'e', 'ada@graphics.stanford.edu'),\n",
            " ('levoy', 'e', 'melissa@graphics.stanford.edu'),\n",
            " ('manning', 'e', 'dbarros@cs.stanford.edu'),\n",
            " ('manning', 'e', 'manning@cs.stanford.edu'),\n",
            " ('nass', 'e', 'nass@stanford.edu'),\n",
            " ('nick', 'e', 'nick.parlante@cs.stanford.edu'),\n",
            " ('pal', 'p', '6-5-0'),\n",
            " ('psyoung', 'e', 'patrick.young@stanford.edu'),\n",
            " ('rajeev', 'p', '6-5-0'),\n",
            " ('rinard', 'e', 'rinard@lcs.mit.edu'),\n",
            " ('shoham', 'e', 'shoham@stanford.edu'),\n",
            " ('shoham', 'p', '6-5-0'),\n",
            " ('subh', 'p', '6-5-0'),\n",
            " ('thm', 'e', 'pkrokel@stanford.edu'),\n",
            " ('ullman', 'p', '6-5-0'),\n",
            " ('widom', 'e', 'siroker@cs.stanford.edu'),\n",
            " ('widom', 'e', 'widom@cs.stanford.edu'),\n",
            " ('widom', 'p', '6-5-0'),\n",
            " ('zelenski', 'e', 'zelenski@cs.stanford.edu'),\n",
            " ('zelenski', 'p', '6-5-0'),\n",
            " ('zm', 'e', 'manna@cs.stanford.edu')}\n",
            "Gold (110): \n",
            "{('ashishg', 'e', 'ashishg@stanford.edu'),\n",
            " ('ashishg', 'e', 'rozm@stanford.edu'),\n",
            " ('ashishg', 'p', '650-723-1614'),\n",
            " ('ashishg', 'p', '650-723-4173'),\n",
            " ('ashishg', 'p', '650-814-1478'),\n",
            " ('balaji', 'e', 'balaji@stanford.edu'),\n",
            " ('bgirod', 'p', '650-723-4539'),\n",
            " ('bgirod', 'p', '650-724-3648'),\n",
            " ('bgirod', 'p', '650-724-6354'),\n",
            " ('cheriton', 'e', 'cheriton@cs.stanford.edu'),\n",
            " ('cheriton', 'e', 'uma@cs.stanford.edu'),\n",
            " ('cheriton', 'p', '650-723-1131'),\n",
            " ('cheriton', 'p', '650-725-3726'),\n",
            " ('dabo', 'e', 'dabo@cs.stanford.edu'),\n",
            " ('dabo', 'p', '650-725-3897'),\n",
            " ('dabo', 'p', '650-725-4671'),\n",
            " ('eroberts', 'e', 'eroberts@cs.stanford.edu'),\n",
            " ('eroberts', 'p', '650-723-3642'),\n",
            " ('eroberts', 'p', '650-723-6092'),\n",
            " ('fedkiw', 'e', 'fedkiw@cs.stanford.edu'),\n",
            " ('hager', 'e', 'hager@cs.jhu.edu'),\n",
            " ('hager', 'p', '410-516-5521'),\n",
            " ('hager', 'p', '410-516-5553'),\n",
            " ('hager', 'p', '410-516-8000'),\n",
            " ('hanrahan', 'e', 'hanrahan@cs.stanford.edu'),\n",
            " ('hanrahan', 'p', '650-723-0033'),\n",
            " ('hanrahan', 'p', '650-723-8530'),\n",
            " ('horowitz', 'p', '650-725-3707'),\n",
            " ('horowitz', 'p', '650-725-6949'),\n",
            " ('jurafsky', 'e', 'jurafsky@stanford.edu'),\n",
            " ('jurafsky', 'p', '650-723-5666'),\n",
            " ('kosecka', 'e', 'kosecka@cs.gmu.edu'),\n",
            " ('kosecka', 'p', '703-993-1710'),\n",
            " ('kosecka', 'p', '703-993-1876'),\n",
            " ('kunle', 'e', 'darlene@csl.stanford.edu'),\n",
            " ('kunle', 'e', 'kunle@ogun.stanford.edu'),\n",
            " ('kunle', 'p', '650-723-1430'),\n",
            " ('kunle', 'p', '650-725-3713'),\n",
            " ('kunle', 'p', '650-725-6949'),\n",
            " ('lam', 'e', 'lam@cs.stanford.edu'),\n",
            " ('lam', 'p', '650-725-3714'),\n",
            " ('lam', 'p', '650-725-6949'),\n",
            " ('latombe', 'e', 'asandra@cs.stanford.edu'),\n",
            " ('latombe', 'e', 'latombe@cs.stanford.edu'),\n",
            " ('latombe', 'e', 'liliana@cs.stanford.edu'),\n",
            " ('latombe', 'p', '650-721-6625'),\n",
            " ('latombe', 'p', '650-723-0350'),\n",
            " ('latombe', 'p', '650-723-4137'),\n",
            " ('latombe', 'p', '650-725-1449'),\n",
            " ('levoy', 'e', 'ada@graphics.stanford.edu'),\n",
            " ('levoy', 'e', 'melissa@graphics.stanford.edu'),\n",
            " ('levoy', 'p', '650-723-0033'),\n",
            " ('levoy', 'p', '650-724-6865'),\n",
            " ('levoy', 'p', '650-725-3724'),\n",
            " ('levoy', 'p', '650-725-4089'),\n",
            " ('manning', 'e', 'dbarros@cs.stanford.edu'),\n",
            " ('manning', 'e', 'manning@cs.stanford.edu'),\n",
            " ('manning', 'p', '650-723-7683'),\n",
            " ('manning', 'p', '650-725-1449'),\n",
            " ('manning', 'p', '650-725-3358'),\n",
            " ('nass', 'e', 'nass@stanford.edu'),\n",
            " ('nass', 'p', '650-723-5499'),\n",
            " ('nass', 'p', '650-725-2472'),\n",
            " ('nick', 'e', 'nick.parlante@cs.stanford.edu'),\n",
            " ('nick', 'p', '650-725-4727'),\n",
            " ('ok', 'p', '650-723-9753'),\n",
            " ('ok', 'p', '650-725-1449'),\n",
            " ('pal', 'e', 'pal@cs.stanford.edu'),\n",
            " ('pal', 'p', '650-725-9046'),\n",
            " ('psyoung', 'e', 'patrick.young@stanford.edu'),\n",
            " ('rajeev', 'p', '650-723-4377'),\n",
            " ('rajeev', 'p', '650-723-6045'),\n",
            " ('rajeev', 'p', '650-725-4671'),\n",
            " ('rinard', 'e', 'rinard@lcs.mit.edu'),\n",
            " ('rinard', 'p', '617-253-1221'),\n",
            " ('rinard', 'p', '617-258-6922'),\n",
            " ('serafim', 'e', 'serafim@cs.stanford.edu'),\n",
            " ('serafim', 'p', '650-723-3334'),\n",
            " ('serafim', 'p', '650-725-1449'),\n",
            " ('shoham', 'e', 'shoham@stanford.edu'),\n",
            " ('shoham', 'p', '650-723-3432'),\n",
            " ('shoham', 'p', '650-725-1449'),\n",
            " ('subh', 'e', 'subh@stanford.edu'),\n",
            " ('subh', 'e', 'uma@cs.stanford.edu'),\n",
            " ('subh', 'p', '650-724-1915'),\n",
            " ('subh', 'p', '650-725-3726'),\n",
            " ('subh', 'p', '650-725-6949'),\n",
            " ('thm', 'e', 'pkrokel@stanford.edu'),\n",
            " ('thm', 'p', '650-725-3383'),\n",
            " ('thm', 'p', '650-725-3636'),\n",
            " ('thm', 'p', '650-725-3938'),\n",
            " ('tim', 'p', '650-724-9147'),\n",
            " ('tim', 'p', '650-725-2340'),\n",
            " ('tim', 'p', '650-725-4671'),\n",
            " ('ullman', 'e', 'ullman@cs.stanford.edu'),\n",
            " ('ullman', 'p', '650-494-8016'),\n",
            " ('ullman', 'p', '650-725-2588'),\n",
            " ('ullman', 'p', '650-725-4802'),\n",
            " ('vladlen', 'e', 'vladlen@stanford.edu'),\n",
            " ('widom', 'e', 'siroker@cs.stanford.edu'),\n",
            " ('widom', 'e', 'widom@cs.stanford.edu'),\n",
            " ('widom', 'p', '650-723-0872'),\n",
            " ('widom', 'p', '650-723-7690'),\n",
            " ('widom', 'p', '650-725-2588'),\n",
            " ('zelenski', 'e', 'zelenski@cs.stanford.edu'),\n",
            " ('zelenski', 'p', '650-723-6092'),\n",
            " ('zelenski', 'p', '650-725-8596'),\n",
            " ('zm', 'e', 'manna@cs.stanford.edu'),\n",
            " ('zm', 'p', '650-723-4364'),\n",
            " ('zm', 'p', '650-725-4671')}\n",
            "True Positives (28): \n",
            "{('balaji', 'e', 'balaji@stanford.edu'),\n",
            " ('cheriton', 'e', 'cheriton@cs.stanford.edu'),\n",
            " ('cheriton', 'e', 'uma@cs.stanford.edu'),\n",
            " ('dabo', 'e', 'dabo@cs.stanford.edu'),\n",
            " ('eroberts', 'e', 'eroberts@cs.stanford.edu'),\n",
            " ('fedkiw', 'e', 'fedkiw@cs.stanford.edu'),\n",
            " ('hanrahan', 'e', 'hanrahan@cs.stanford.edu'),\n",
            " ('jurafsky', 'e', 'jurafsky@stanford.edu'),\n",
            " ('kosecka', 'e', 'kosecka@cs.gmu.edu'),\n",
            " ('kunle', 'e', 'darlene@csl.stanford.edu'),\n",
            " ('kunle', 'e', 'kunle@ogun.stanford.edu'),\n",
            " ('latombe', 'e', 'asandra@cs.stanford.edu'),\n",
            " ('latombe', 'e', 'latombe@cs.stanford.edu'),\n",
            " ('latombe', 'e', 'liliana@cs.stanford.edu'),\n",
            " ('levoy', 'e', 'ada@graphics.stanford.edu'),\n",
            " ('levoy', 'e', 'melissa@graphics.stanford.edu'),\n",
            " ('manning', 'e', 'dbarros@cs.stanford.edu'),\n",
            " ('manning', 'e', 'manning@cs.stanford.edu'),\n",
            " ('nass', 'e', 'nass@stanford.edu'),\n",
            " ('nick', 'e', 'nick.parlante@cs.stanford.edu'),\n",
            " ('psyoung', 'e', 'patrick.young@stanford.edu'),\n",
            " ('rinard', 'e', 'rinard@lcs.mit.edu'),\n",
            " ('shoham', 'e', 'shoham@stanford.edu'),\n",
            " ('thm', 'e', 'pkrokel@stanford.edu'),\n",
            " ('widom', 'e', 'siroker@cs.stanford.edu'),\n",
            " ('widom', 'e', 'widom@cs.stanford.edu'),\n",
            " ('zelenski', 'e', 'zelenski@cs.stanford.edu'),\n",
            " ('zm', 'e', 'manna@cs.stanford.edu')}\n",
            "False Positives (11): \n",
            "{('cheriton', 'p', '6-5-0'),\n",
            " ('eroberts', 'p', '6-5-0'),\n",
            " ('hager', 'p', '4-1-0'),\n",
            " ('jurafsky', 'p', '6-5-0'),\n",
            " ('pal', 'p', '6-5-0'),\n",
            " ('rajeev', 'p', '6-5-0'),\n",
            " ('shoham', 'p', '6-5-0'),\n",
            " ('subh', 'p', '6-5-0'),\n",
            " ('ullman', 'p', '6-5-0'),\n",
            " ('widom', 'p', '6-5-0'),\n",
            " ('zelenski', 'p', '6-5-0')}\n",
            "False Negatives (82): \n",
            "{('ashishg', 'e', 'ashishg@stanford.edu'),\n",
            " ('ashishg', 'e', 'rozm@stanford.edu'),\n",
            " ('ashishg', 'p', '650-723-1614'),\n",
            " ('ashishg', 'p', '650-723-4173'),\n",
            " ('ashishg', 'p', '650-814-1478'),\n",
            " ('bgirod', 'p', '650-723-4539'),\n",
            " ('bgirod', 'p', '650-724-3648'),\n",
            " ('bgirod', 'p', '650-724-6354'),\n",
            " ('cheriton', 'p', '650-723-1131'),\n",
            " ('cheriton', 'p', '650-725-3726'),\n",
            " ('dabo', 'p', '650-725-3897'),\n",
            " ('dabo', 'p', '650-725-4671'),\n",
            " ('eroberts', 'p', '650-723-3642'),\n",
            " ('eroberts', 'p', '650-723-6092'),\n",
            " ('hager', 'e', 'hager@cs.jhu.edu'),\n",
            " ('hager', 'p', '410-516-5521'),\n",
            " ('hager', 'p', '410-516-5553'),\n",
            " ('hager', 'p', '410-516-8000'),\n",
            " ('hanrahan', 'p', '650-723-0033'),\n",
            " ('hanrahan', 'p', '650-723-8530'),\n",
            " ('horowitz', 'p', '650-725-3707'),\n",
            " ('horowitz', 'p', '650-725-6949'),\n",
            " ('jurafsky', 'p', '650-723-5666'),\n",
            " ('kosecka', 'p', '703-993-1710'),\n",
            " ('kosecka', 'p', '703-993-1876'),\n",
            " ('kunle', 'p', '650-723-1430'),\n",
            " ('kunle', 'p', '650-725-3713'),\n",
            " ('kunle', 'p', '650-725-6949'),\n",
            " ('lam', 'e', 'lam@cs.stanford.edu'),\n",
            " ('lam', 'p', '650-725-3714'),\n",
            " ('lam', 'p', '650-725-6949'),\n",
            " ('latombe', 'p', '650-721-6625'),\n",
            " ('latombe', 'p', '650-723-0350'),\n",
            " ('latombe', 'p', '650-723-4137'),\n",
            " ('latombe', 'p', '650-725-1449'),\n",
            " ('levoy', 'p', '650-723-0033'),\n",
            " ('levoy', 'p', '650-724-6865'),\n",
            " ('levoy', 'p', '650-725-3724'),\n",
            " ('levoy', 'p', '650-725-4089'),\n",
            " ('manning', 'p', '650-723-7683'),\n",
            " ('manning', 'p', '650-725-1449'),\n",
            " ('manning', 'p', '650-725-3358'),\n",
            " ('nass', 'p', '650-723-5499'),\n",
            " ('nass', 'p', '650-725-2472'),\n",
            " ('nick', 'p', '650-725-4727'),\n",
            " ('ok', 'p', '650-723-9753'),\n",
            " ('ok', 'p', '650-725-1449'),\n",
            " ('pal', 'e', 'pal@cs.stanford.edu'),\n",
            " ('pal', 'p', '650-725-9046'),\n",
            " ('rajeev', 'p', '650-723-4377'),\n",
            " ('rajeev', 'p', '650-723-6045'),\n",
            " ('rajeev', 'p', '650-725-4671'),\n",
            " ('rinard', 'p', '617-253-1221'),\n",
            " ('rinard', 'p', '617-258-6922'),\n",
            " ('serafim', 'e', 'serafim@cs.stanford.edu'),\n",
            " ('serafim', 'p', '650-723-3334'),\n",
            " ('serafim', 'p', '650-725-1449'),\n",
            " ('shoham', 'p', '650-723-3432'),\n",
            " ('shoham', 'p', '650-725-1449'),\n",
            " ('subh', 'e', 'subh@stanford.edu'),\n",
            " ('subh', 'e', 'uma@cs.stanford.edu'),\n",
            " ('subh', 'p', '650-724-1915'),\n",
            " ('subh', 'p', '650-725-3726'),\n",
            " ('subh', 'p', '650-725-6949'),\n",
            " ('thm', 'p', '650-725-3383'),\n",
            " ('thm', 'p', '650-725-3636'),\n",
            " ('thm', 'p', '650-725-3938'),\n",
            " ('tim', 'p', '650-724-9147'),\n",
            " ('tim', 'p', '650-725-2340'),\n",
            " ('tim', 'p', '650-725-4671'),\n",
            " ('ullman', 'e', 'ullman@cs.stanford.edu'),\n",
            " ('ullman', 'p', '650-494-8016'),\n",
            " ('ullman', 'p', '650-725-2588'),\n",
            " ('ullman', 'p', '650-725-4802'),\n",
            " ('vladlen', 'e', 'vladlen@stanford.edu'),\n",
            " ('widom', 'p', '650-723-0872'),\n",
            " ('widom', 'p', '650-723-7690'),\n",
            " ('widom', 'p', '650-725-2588'),\n",
            " ('zelenski', 'p', '650-723-6092'),\n",
            " ('zelenski', 'p', '650-725-8596'),\n",
            " ('zm', 'p', '650-723-4364'),\n",
            " ('zm', 'p', '650-725-4671')}\n",
            "Summary: tp=28, fp=11, fn=82\n"
          ]
        }
      ],
      "source": [
        "guess_list = process_dir('data/dev', process_file)\n",
        "gold_list = get_gold('data/devGOLD')\n",
        "score(guess_list, gold_list)"
      ]
    },
    {
      "cell_type": "markdown",
      "metadata": {
        "id": "qFlWbyLqBtvG"
      },
      "source": [
        "From the list above, select a file for which your approach is outputting an incorrect result, print the contents of this file using the next cell, and look into why your regular expression may not be capturing the missed emails/numbers.\n",
        "As you make improvements to your functions, come back to this section and repeat the process and you are satisfied with the reuslts."
      ]
    },
    {
      "cell_type": "code",
      "execution_count": 27,
      "metadata": {
        "colab": {
          "base_uri": "https://localhost:8080/"
        },
        "id": "5L-1SCX1Cjde",
        "outputId": "740a6bf4-64ee-4d28-e623-704a6f37f4e6",
        "tags": [
          "exploration"
        ]
      },
      "outputs": [
        {
          "output_type": "stream",
          "name": "stdout",
          "text": [
            "[('dabo', 'e', 'dabo@cs.stanford.edu')]\n"
          ]
        }
      ],
      "source": [
        "selected_file = 'dabo.html'\n",
        "result = process_file(selected_file, 'data/dev')\n",
        "print(result)"
      ]
    },
    {
      "cell_type": "markdown",
      "metadata": {
        "id": "D2CHv9gjPhDT"
      },
      "source": [
        "<a id=\"reflection\"></a>\n",
        "## Part 6. Reflection"
      ]
    },
    {
      "cell_type": "markdown",
      "metadata": {
        "id": "wo-3PXRzIPeM"
      },
      "source": [
        "<a id='carbon_dioxide_emissions'></a>\n",
        "**Carbon Dioxide Emissions.**\n",
        "Wait! Don’t send that spam email! Like most other tasks involving electricity, sending that little spam email actually releases carbon dioxide into the atmosphere.\n",
        "Each email sent requires not only the electricity you use on your personal device, but also the energy to store and transmit the message through data centers.\n",
        "According to the carbon footprint expert `Mike Berners-Lee`’s 2010 book [`How Bad are Bananas: The Carbon Footprint of Everything`](http://www.goodreads.com/book/show/7230015-how-bad-are-bananas), the average spam email has a carbon footprint equivalent to `0.3 grams` of carbon dioxide.\n",
        "Furthermore a normal email has a footprint  of `4 grams` of carbon dioxide and an email with long attachments can have a carbon footprint of `50 grams` carbon dioxide.\n",
        "\n",
        "It is estimated that globally around [120 billion spam emails](https://talosintelligence.com/reputation_center/email_rep?cid=27273&industry=agency&offset=390) are sent every day.\n",
        "\n",
        "Calculate the global carbon emission for a day’s worth of spam emails.\n",
        "Provide the answer in tons.\n",
        "\n",
        "**Note:** Use `1 gram = 1.10231e-6 tons`."
      ]
    },
    {
      "cell_type": "code",
      "execution_count": 28,
      "metadata": {
        "id": "kMfFlyQiPhDT",
        "tags": [
          "todo"
        ],
        "colab": {
          "base_uri": "https://localhost:8080/"
        },
        "outputId": "495b2aa0-e3de-49aa-fafc-b491f37ea827"
      },
      "outputs": [
        {
          "output_type": "stream",
          "name": "stdout",
          "text": [
            "39683.16 tons\n"
          ]
        }
      ],
      "source": [
        "# TODO: Modify this function so that it returns your solution\n",
        "def calculate_carbon_dioxide_emissions():\n",
        "    carbon_per_email = 0.3  # Carbon emissions per email in grams\n",
        "    total_spam_emails = 120_000_000_000  # Total number of spam emails\n",
        "    total_carbon = total_spam_emails * carbon_per_email  # Total carbon emissions in grams\n",
        "    grams_to_tons = 1.10231e-6  # Conversion factor from grams to tons\n",
        "    carbon_emissions_in_tons = total_carbon * grams_to_tons  # Total emissions in tons\n",
        "\n",
        "    return f\"{carbon_emissions_in_tons} tons\"\n",
        "\n",
        "print(calculate_carbon_dioxide_emissions())"
      ]
    },
    {
      "cell_type": "markdown",
      "metadata": {
        "id": "1t7mdeFCPhDT"
      },
      "source": [
        "<a id='government_response'></a>\n",
        "**Government Response.**\n",
        "What kind of policies could the government enact to mitigate the quantity of carbon dioxide emitted as a result of spam emails?\n",
        "Who should be responsible for instigating these policies\n",
        "Please provide a 3-6 sentence response.\n",
        "There is not one correct answer, so please feel free to be creative and share your ideas."
      ]
    },
    {
      "cell_type": "code",
      "execution_count": 29,
      "metadata": {
        "id": "Dlt3_JfZPhDU",
        "tags": [
          "todo"
        ],
        "colab": {
          "base_uri": "https://localhost:8080/"
        },
        "outputId": "d5729c50-1801-4190-9c27-be16afc10c90"
      },
      "outputs": [
        {
          "output_type": "stream",
          "name": "stdout",
          "text": [
            "Spam emails produce carbon emissions by using energy for storage and processing. To reduce this, the government should enforce stricter email marketing rules, limit unsolicited emails, and promote energy-efficient servers. Digital literacy campaigns can help people manage their inboxes better, which can decrease the number of unnecessary emails. Cooperation between tech companies and government agencies is important. This could involve measures like imposing carbon taxes on bulk email senders and using AI-powered spam filters to save energy. In the end, we need a global effort involving governments, industries, and organizations to make digital communication more sustainable.\n"
          ]
        }
      ],
      "source": [
        "# TODO: Place your response into the response string below\n",
        "def government_response():\n",
        "    response = (\n",
        "        \"Spam emails produce carbon emissions by using energy for storage and processing. \"\n",
        "        \"To reduce this, the government should enforce stricter email marketing rules, limit unsolicited emails, \"\n",
        "        \"and promote energy-efficient servers. Digital literacy campaigns can help people manage their inboxes better, \"\n",
        "        \"which can decrease the number of unnecessary emails. Cooperation between tech companies and government agencies is important. \"\n",
        "        \"This could involve measures like imposing carbon taxes on bulk email senders and using AI-powered spam filters to save energy. \"\n",
        "        \"In the end, we need a global effort involving governments, industries, and organizations to make digital communication more sustainable.\"\n",
        "    )\n",
        "\n",
        "    return response\n",
        "print(government_response())"
      ]
    },
    {
      "cell_type": "code",
      "source": [],
      "metadata": {
        "id": "LPvoVCD0mF7T"
      },
      "execution_count": null,
      "outputs": []
    },
    {
      "cell_type": "markdown",
      "metadata": {
        "id": "2O2n-GyiIIVT"
      },
      "source": [
        "<a id=\"ending_remarks\"></a>\n",
        "## Ending Remarks"
      ]
    },
    {
      "cell_type": "markdown",
      "metadata": {
        "id": "8pI3K3ewfb2g"
      },
      "source": [
        "Congratulations, you are done with the assignment!\n",
        "Refer to the [`Submitting`](#submitting) for submission instructions."
      ]
    }
  ],
  "metadata": {
    "celltoolbar": "Tags",
    "colab": {
      "provenance": [],
      "toc_visible": true,
      "include_colab_link": true
    },
    "kernelspec": {
      "display_name": "Python 3 (ipykernel)",
      "language": "python",
      "name": "python3"
    },
    "language_info": {
      "codemirror_mode": {
        "name": "ipython",
        "version": 3
      },
      "file_extension": ".py",
      "mimetype": "text/x-python",
      "name": "python",
      "nbconvert_exporter": "python",
      "pygments_lexer": "ipython3",
      "version": "3.8.5"
    }
  },
  "nbformat": 4,
  "nbformat_minor": 0
}